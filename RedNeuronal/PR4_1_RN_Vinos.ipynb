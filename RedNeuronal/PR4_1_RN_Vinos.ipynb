{
  "nbformat": 4,
  "nbformat_minor": 0,
  "metadata": {
    "colab": {
      "name": "PR4_1_RN_Vinos.ipynb",
      "provenance": [],
      "collapsed_sections": []
    },
    "kernelspec": {
      "name": "python3",
      "display_name": "Python 3"
    },
    "language_info": {
      "name": "python"
    }
  },
  "cells": [
    {
      "cell_type": "markdown",
      "source": [
        "# Importaciones"
      ],
      "metadata": {
        "id": "wegNQOeD9MzE"
      }
    },
    {
      "cell_type": "code",
      "source": [
        "import pandas as pd\n",
        "import numpy as npç\n",
        "from tensorflow import keras\n",
        "import tensorflow as tf\n",
        "from tensorflow.keras.models import Sequential\n",
        "import tensorflow as tf\n",
        "from keras.utils.vis_utils import model_to_dot\n",
        "from IPython.display import SVG\n",
        "from sklearn.model_selection import train_test_split\n",
        "from sklearn.metrics import confusion_matrix, ConfusionMatrixDisplay\n",
        "import matplotlib.pyplot as plt"
      ],
      "metadata": {
        "id": "q30gu9p5-Cuz"
      },
      "execution_count": null,
      "outputs": []
    },
    {
      "cell_type": "markdown",
      "source": [
        "# Definir conjunto de entrenamiento\n"
      ],
      "metadata": {
        "id": "KOSBpGEM9GVN"
      }
    },
    {
      "cell_type": "code",
      "source": [
        "df = pd.read_csv('/content/WineQT.csv')\n",
        "df = df.drop('Id', axis = 1)"
      ],
      "metadata": {
        "id": "4nb93cCP-uzj"
      },
      "execution_count": null,
      "outputs": []
    },
    {
      "cell_type": "code",
      "source": [
        "x_wines = df.drop('quality', axis = 1)\n",
        "y_wines = df['quality']\n",
        "y_wines"
      ],
      "metadata": {
        "colab": {
          "base_uri": "https://localhost:8080/"
        },
        "id": "K81BW5SH_dgB",
        "outputId": "11776307-13bd-4dae-8e69-0c7b50cad283"
      },
      "execution_count": null,
      "outputs": [
        {
          "output_type": "execute_result",
          "data": {
            "text/plain": [
              "0       5\n",
              "1       5\n",
              "2       5\n",
              "3       6\n",
              "4       5\n",
              "       ..\n",
              "1138    6\n",
              "1139    6\n",
              "1140    5\n",
              "1141    6\n",
              "1142    5\n",
              "Name: quality, Length: 1143, dtype: int64"
            ]
          },
          "metadata": {},
          "execution_count": 53
        }
      ]
    },
    {
      "cell_type": "code",
      "source": [
        "y_wines"
      ],
      "metadata": {
        "colab": {
          "base_uri": "https://localhost:8080/"
        },
        "id": "UoY6Ezve_x2I",
        "outputId": "89744c25-e6c9-4de3-b03c-49ab40660af6"
      },
      "execution_count": null,
      "outputs": [
        {
          "output_type": "execute_result",
          "data": {
            "text/plain": [
              "0       5\n",
              "1       5\n",
              "2       5\n",
              "3       6\n",
              "4       5\n",
              "       ..\n",
              "1138    6\n",
              "1139    6\n",
              "1140    5\n",
              "1141    6\n",
              "1142    5\n",
              "Name: quality, Length: 1143, dtype: int64"
            ]
          },
          "metadata": {},
          "execution_count": 54
        }
      ]
    },
    {
      "cell_type": "code",
      "source": [
        "x_train,x_test, y_train, y_test = train_test_split(x_wines,y_wines, random_state=1, test_size=0.25)"
      ],
      "metadata": {
        "id": "EIqyQJbm_Sj6"
      },
      "execution_count": null,
      "outputs": []
    },
    {
      "cell_type": "markdown",
      "source": [
        "# Definir el modelo de red neuronal"
      ],
      "metadata": {
        "id": "5xFQuPpS9PL6"
      }
    },
    {
      "cell_type": "code",
      "source": [
        "x_train.shape"
      ],
      "metadata": {
        "colab": {
          "base_uri": "https://localhost:8080/"
        },
        "id": "uqMvhAGjDzfq",
        "outputId": "7b99268b-d7d7-475c-a8b6-99bd2eea5b52"
      },
      "execution_count": null,
      "outputs": [
        {
          "output_type": "execute_result",
          "data": {
            "text/plain": [
              "(857, 11)"
            ]
          },
          "metadata": {},
          "execution_count": 56
        }
      ]
    },
    {
      "cell_type": "code",
      "source": [
        "input_sh = x_train.shape[1]\n",
        "\n",
        "model = keras.Sequential([\n",
        "        keras.layers.Dense(32, activation = 'relu', input_dim=input_sh),\n",
        "        keras.layers.Dense(16, activation = 'relu'),\n",
        "        keras.layers.Dense(9, activation = 'relu')\n",
        "])"
      ],
      "metadata": {
        "id": "e-3UPwL-ArA9"
      },
      "execution_count": null,
      "outputs": []
    },
    {
      "cell_type": "code",
      "source": [
        "model.summary()"
      ],
      "metadata": {
        "colab": {
          "base_uri": "https://localhost:8080/"
        },
        "id": "4LnagHvDCP1I",
        "outputId": "b3b2ed59-ac7c-44ec-c0fa-5cb48f99be0b"
      },
      "execution_count": null,
      "outputs": [
        {
          "output_type": "stream",
          "name": "stdout",
          "text": [
            "Model: \"sequential_6\"\n",
            "_________________________________________________________________\n",
            " Layer (type)                Output Shape              Param #   \n",
            "=================================================================\n",
            " dense_18 (Dense)            (None, 32)                384       \n",
            "                                                                 \n",
            " dense_19 (Dense)            (None, 16)                528       \n",
            "                                                                 \n",
            " dense_20 (Dense)            (None, 9)                 153       \n",
            "                                                                 \n",
            "=================================================================\n",
            "Total params: 1,065\n",
            "Trainable params: 1,065\n",
            "Non-trainable params: 0\n",
            "_________________________________________________________________\n"
          ]
        }
      ]
    },
    {
      "cell_type": "code",
      "source": [
        "SVG(model_to_dot(model,show_shapes=True, show_dtype=True, dpi = 65).create(prog = 'dot', format = 'svg'))"
      ],
      "metadata": {
        "colab": {
          "base_uri": "https://localhost:8080/",
          "height": 497
        },
        "id": "NrFYWSChWxIg",
        "outputId": "7c6777b2-b9b8-4e9f-8ad0-4373a4ee7af8"
      },
      "execution_count": null,
      "outputs": [
        {
          "output_type": "execute_result",
          "data": {
            "text/plain": [
              "<IPython.core.display.SVG object>"
            ],
            "image/svg+xml": "<svg height=\"357pt\" viewBox=\"0.00 0.00 351.00 396.00\" width=\"317pt\" xmlns=\"http://www.w3.org/2000/svg\" xmlns:xlink=\"http://www.w3.org/1999/xlink\">\n<g class=\"graph\" id=\"graph0\" transform=\"scale(.9028 .9028) rotate(0) translate(4 392)\">\n<title>G</title>\n<polygon fill=\"#ffffff\" points=\"-4,4 -4,-392 347,-392 347,4 -4,4\" stroke=\"transparent\"/>\n<!-- 140560498265680 -->\n<g class=\"node\" id=\"node1\">\n<title>140560498265680</title>\n<polygon fill=\"none\" points=\"0,-318.5 0,-387.5 343,-387.5 343,-318.5 0,-318.5\" stroke=\"#000000\"/>\n<text fill=\"#000000\" font-family=\"Times,serif\" font-size=\"14.00\" text-anchor=\"middle\" x=\"54.5\" y=\"-372.3\">dense_18_input</text>\n<polyline fill=\"none\" points=\"0,-364.5 109,-364.5 \" stroke=\"#000000\"/>\n<text fill=\"#000000\" font-family=\"Times,serif\" font-size=\"14.00\" text-anchor=\"middle\" x=\"54.5\" y=\"-349.3\">InputLayer</text>\n<polyline fill=\"none\" points=\"0,-341.5 109,-341.5 \" stroke=\"#000000\"/>\n<text fill=\"#000000\" font-family=\"Times,serif\" font-size=\"14.00\" text-anchor=\"middle\" x=\"54.5\" y=\"-326.3\">float32</text>\n<polyline fill=\"none\" points=\"109,-318.5 109,-387.5 \" stroke=\"#000000\"/>\n<text fill=\"#000000\" font-family=\"Times,serif\" font-size=\"14.00\" text-anchor=\"middle\" x=\"138\" y=\"-366.8\">input:</text>\n<polyline fill=\"none\" points=\"109,-353.5 167,-353.5 \" stroke=\"#000000\"/>\n<text fill=\"#000000\" font-family=\"Times,serif\" font-size=\"14.00\" text-anchor=\"middle\" x=\"138\" y=\"-332.3\">output:</text>\n<polyline fill=\"none\" points=\"167,-318.5 167,-387.5 \" stroke=\"#000000\"/>\n<text fill=\"#000000\" font-family=\"Times,serif\" font-size=\"14.00\" text-anchor=\"middle\" x=\"211\" y=\"-349.3\">[(None, 11)]</text>\n<polyline fill=\"none\" points=\"255,-318.5 255,-387.5 \" stroke=\"#000000\"/>\n<text fill=\"#000000\" font-family=\"Times,serif\" font-size=\"14.00\" text-anchor=\"middle\" x=\"299\" y=\"-349.3\">[(None, 11)]</text>\n</g>\n<!-- 140560637806736 -->\n<g class=\"node\" id=\"node2\">\n<title>140560637806736</title>\n<polygon fill=\"none\" points=\"27.5,-212.5 27.5,-281.5 315.5,-281.5 315.5,-212.5 27.5,-212.5\" stroke=\"#000000\"/>\n<text fill=\"#000000\" font-family=\"Times,serif\" font-size=\"14.00\" text-anchor=\"middle\" x=\"63\" y=\"-266.3\">dense_18</text>\n<polyline fill=\"none\" points=\"27.5,-258.5 98.5,-258.5 \" stroke=\"#000000\"/>\n<text fill=\"#000000\" font-family=\"Times,serif\" font-size=\"14.00\" text-anchor=\"middle\" x=\"63\" y=\"-243.3\">Dense</text>\n<polyline fill=\"none\" points=\"27.5,-235.5 98.5,-235.5 \" stroke=\"#000000\"/>\n<text fill=\"#000000\" font-family=\"Times,serif\" font-size=\"14.00\" text-anchor=\"middle\" x=\"63\" y=\"-220.3\">float32</text>\n<polyline fill=\"none\" points=\"98.5,-212.5 98.5,-281.5 \" stroke=\"#000000\"/>\n<text fill=\"#000000\" font-family=\"Times,serif\" font-size=\"14.00\" text-anchor=\"middle\" x=\"127.5\" y=\"-260.8\">input:</text>\n<polyline fill=\"none\" points=\"98.5,-247.5 156.5,-247.5 \" stroke=\"#000000\"/>\n<text fill=\"#000000\" font-family=\"Times,serif\" font-size=\"14.00\" text-anchor=\"middle\" x=\"127.5\" y=\"-226.3\">output:</text>\n<polyline fill=\"none\" points=\"156.5,-212.5 156.5,-281.5 \" stroke=\"#000000\"/>\n<text fill=\"#000000\" font-family=\"Times,serif\" font-size=\"14.00\" text-anchor=\"middle\" x=\"196\" y=\"-243.3\">(None, 11)</text>\n<polyline fill=\"none\" points=\"235.5,-212.5 235.5,-281.5 \" stroke=\"#000000\"/>\n<text fill=\"#000000\" font-family=\"Times,serif\" font-size=\"14.00\" text-anchor=\"middle\" x=\"275.5\" y=\"-243.3\">(None, 32)</text>\n</g>\n<!-- 140560498265680&#45;&gt;140560637806736 -->\n<g class=\"edge\" id=\"edge1\">\n<title>140560498265680-&gt;140560637806736</title>\n<path d=\"M171.5,-318.2916C171.5,-309.8725 171.5,-300.7515 171.5,-291.9354\" fill=\"none\" stroke=\"#000000\"/>\n<polygon fill=\"#000000\" points=\"175.0001,-291.7863 171.5,-281.7863 168.0001,-291.7864 175.0001,-291.7863\" stroke=\"#000000\"/>\n</g>\n<!-- 140560637808336 -->\n<g class=\"node\" id=\"node3\">\n<title>140560637808336</title>\n<polygon fill=\"none\" points=\"27,-106.5 27,-175.5 316,-175.5 316,-106.5 27,-106.5\" stroke=\"#000000\"/>\n<text fill=\"#000000\" font-family=\"Times,serif\" font-size=\"14.00\" text-anchor=\"middle\" x=\"62.5\" y=\"-160.3\">dense_19</text>\n<polyline fill=\"none\" points=\"27,-152.5 98,-152.5 \" stroke=\"#000000\"/>\n<text fill=\"#000000\" font-family=\"Times,serif\" font-size=\"14.00\" text-anchor=\"middle\" x=\"62.5\" y=\"-137.3\">Dense</text>\n<polyline fill=\"none\" points=\"27,-129.5 98,-129.5 \" stroke=\"#000000\"/>\n<text fill=\"#000000\" font-family=\"Times,serif\" font-size=\"14.00\" text-anchor=\"middle\" x=\"62.5\" y=\"-114.3\">float32</text>\n<polyline fill=\"none\" points=\"98,-106.5 98,-175.5 \" stroke=\"#000000\"/>\n<text fill=\"#000000\" font-family=\"Times,serif\" font-size=\"14.00\" text-anchor=\"middle\" x=\"127\" y=\"-154.8\">input:</text>\n<polyline fill=\"none\" points=\"98,-141.5 156,-141.5 \" stroke=\"#000000\"/>\n<text fill=\"#000000\" font-family=\"Times,serif\" font-size=\"14.00\" text-anchor=\"middle\" x=\"127\" y=\"-120.3\">output:</text>\n<polyline fill=\"none\" points=\"156,-106.5 156,-175.5 \" stroke=\"#000000\"/>\n<text fill=\"#000000\" font-family=\"Times,serif\" font-size=\"14.00\" text-anchor=\"middle\" x=\"196\" y=\"-137.3\">(None, 32)</text>\n<polyline fill=\"none\" points=\"236,-106.5 236,-175.5 \" stroke=\"#000000\"/>\n<text fill=\"#000000\" font-family=\"Times,serif\" font-size=\"14.00\" text-anchor=\"middle\" x=\"276\" y=\"-137.3\">(None, 16)</text>\n</g>\n<!-- 140560637806736&#45;&gt;140560637808336 -->\n<g class=\"edge\" id=\"edge2\">\n<title>140560637806736-&gt;140560637808336</title>\n<path d=\"M171.5,-212.2916C171.5,-203.8725 171.5,-194.7515 171.5,-185.9354\" fill=\"none\" stroke=\"#000000\"/>\n<polygon fill=\"#000000\" points=\"175.0001,-185.7863 171.5,-175.7863 168.0001,-185.7864 175.0001,-185.7863\" stroke=\"#000000\"/>\n</g>\n<!-- 140560638501328 -->\n<g class=\"node\" id=\"node4\">\n<title>140560638501328</title>\n<polygon fill=\"none\" points=\"31,-.5 31,-69.5 312,-69.5 312,-.5 31,-.5\" stroke=\"#000000\"/>\n<text fill=\"#000000\" font-family=\"Times,serif\" font-size=\"14.00\" text-anchor=\"middle\" x=\"66.5\" y=\"-54.3\">dense_20</text>\n<polyline fill=\"none\" points=\"31,-46.5 102,-46.5 \" stroke=\"#000000\"/>\n<text fill=\"#000000\" font-family=\"Times,serif\" font-size=\"14.00\" text-anchor=\"middle\" x=\"66.5\" y=\"-31.3\">Dense</text>\n<polyline fill=\"none\" points=\"31,-23.5 102,-23.5 \" stroke=\"#000000\"/>\n<text fill=\"#000000\" font-family=\"Times,serif\" font-size=\"14.00\" text-anchor=\"middle\" x=\"66.5\" y=\"-8.3\">float32</text>\n<polyline fill=\"none\" points=\"102,-.5 102,-69.5 \" stroke=\"#000000\"/>\n<text fill=\"#000000\" font-family=\"Times,serif\" font-size=\"14.00\" text-anchor=\"middle\" x=\"131\" y=\"-48.8\">input:</text>\n<polyline fill=\"none\" points=\"102,-35.5 160,-35.5 \" stroke=\"#000000\"/>\n<text fill=\"#000000\" font-family=\"Times,serif\" font-size=\"14.00\" text-anchor=\"middle\" x=\"131\" y=\"-14.3\">output:</text>\n<polyline fill=\"none\" points=\"160,-.5 160,-69.5 \" stroke=\"#000000\"/>\n<text fill=\"#000000\" font-family=\"Times,serif\" font-size=\"14.00\" text-anchor=\"middle\" x=\"200\" y=\"-31.3\">(None, 16)</text>\n<polyline fill=\"none\" points=\"240,-.5 240,-69.5 \" stroke=\"#000000\"/>\n<text fill=\"#000000\" font-family=\"Times,serif\" font-size=\"14.00\" text-anchor=\"middle\" x=\"276\" y=\"-31.3\">(None, 9)</text>\n</g>\n<!-- 140560637808336&#45;&gt;140560638501328 -->\n<g class=\"edge\" id=\"edge3\">\n<title>140560637808336-&gt;140560638501328</title>\n<path d=\"M171.5,-106.2916C171.5,-97.8725 171.5,-88.7515 171.5,-79.9354\" fill=\"none\" stroke=\"#000000\"/>\n<polygon fill=\"#000000\" points=\"175.0001,-79.7863 171.5,-69.7863 168.0001,-79.7864 175.0001,-79.7863\" stroke=\"#000000\"/>\n</g>\n</g>\n</svg>"
          },
          "metadata": {},
          "execution_count": 59
        }
      ]
    },
    {
      "cell_type": "markdown",
      "source": [
        "# Configurar el proceso de aprendizaje"
      ],
      "metadata": {
        "id": "K0efqaWT9S71"
      }
    },
    {
      "cell_type": "code",
      "source": [
        "model.compile(optimizer='adam', loss = tf.keras.losses.SparseCategoricalCrossentropy(from_logits=True),metrics=['accuracy'] )"
      ],
      "metadata": {
        "id": "ybZYxzhDCUoi"
      },
      "execution_count": null,
      "outputs": []
    },
    {
      "cell_type": "markdown",
      "source": [
        "# Entrenar el modelo"
      ],
      "metadata": {
        "id": "MJPvY0ab9Vxj"
      }
    },
    {
      "cell_type": "code",
      "source": [
        "model.fit(x_train,y_train, batch_size=10, epochs=15)"
      ],
      "metadata": {
        "colab": {
          "base_uri": "https://localhost:8080/"
        },
        "id": "YN61dJYmXhtV",
        "outputId": "eea8d109-17ad-4616-e955-cc937c44cabb"
      },
      "execution_count": null,
      "outputs": [
        {
          "output_type": "stream",
          "name": "stdout",
          "text": [
            "Epoch 1/15\n",
            "86/86 [==============================] - 1s 2ms/step - loss: 4.0643 - accuracy: 0.0023\n",
            "Epoch 2/15\n",
            "86/86 [==============================] - 0s 2ms/step - loss: 2.2166 - accuracy: 0.0035\n",
            "Epoch 3/15\n",
            "86/86 [==============================] - 0s 2ms/step - loss: 2.1981 - accuracy: 0.0012\n",
            "Epoch 4/15\n",
            "86/86 [==============================] - 0s 2ms/step - loss: 2.1971 - accuracy: 0.0012\n",
            "Epoch 5/15\n",
            "86/86 [==============================] - 0s 2ms/step - loss: 2.1548 - accuracy: 0.1155\n",
            "Epoch 6/15\n",
            "86/86 [==============================] - 0s 2ms/step - loss: 1.6404 - accuracy: 0.4457\n",
            "Epoch 7/15\n",
            "86/86 [==============================] - 0s 2ms/step - loss: 1.3734 - accuracy: 0.4842\n",
            "Epoch 8/15\n",
            "86/86 [==============================] - 0s 1ms/step - loss: 1.3749 - accuracy: 0.4772\n",
            "Epoch 9/15\n",
            "86/86 [==============================] - 0s 2ms/step - loss: 1.3600 - accuracy: 0.5018\n",
            "Epoch 10/15\n",
            "86/86 [==============================] - 0s 2ms/step - loss: 1.3520 - accuracy: 0.5006\n",
            "Epoch 11/15\n",
            "86/86 [==============================] - 0s 1ms/step - loss: 1.3613 - accuracy: 0.4947\n",
            "Epoch 12/15\n",
            "86/86 [==============================] - 0s 2ms/step - loss: 1.3531 - accuracy: 0.5029\n",
            "Epoch 13/15\n",
            "86/86 [==============================] - 0s 2ms/step - loss: 1.3435 - accuracy: 0.5181\n",
            "Epoch 14/15\n",
            "86/86 [==============================] - 0s 1ms/step - loss: 1.3382 - accuracy: 0.5123\n",
            "Epoch 15/15\n",
            "86/86 [==============================] - 0s 2ms/step - loss: 1.3278 - accuracy: 0.5193\n"
          ]
        },
        {
          "output_type": "execute_result",
          "data": {
            "text/plain": [
              "<keras.callbacks.History at 0x7fd6caa62090>"
            ]
          },
          "metadata": {},
          "execution_count": 61
        }
      ]
    },
    {
      "cell_type": "markdown",
      "source": [
        "# Evaluar el modelo"
      ],
      "metadata": {
        "id": "IBsvQyqY9Xr0"
      }
    },
    {
      "cell_type": "code",
      "source": [
        "score = model.evaluate(x_test,y_test, verbose = 0)\n",
        "print('Test loss:', score [0])\n",
        "print('Test accuracy:', score [1])"
      ],
      "metadata": {
        "colab": {
          "base_uri": "https://localhost:8080/"
        },
        "id": "uVxrXsx5aYhp",
        "outputId": "721f1c30-646d-4ccc-fbc1-92624d3842d5"
      },
      "execution_count": null,
      "outputs": [
        {
          "output_type": "stream",
          "name": "stdout",
          "text": [
            "Test loss: 1.287857174873352\n",
            "Test accuracy: 0.5839160680770874\n"
          ]
        }
      ]
    },
    {
      "cell_type": "code",
      "source": [
        "prediction = model.predict(x_test)\n",
        "y_pred = prediction.argmax(axis = 1)\n",
        "ConfusionMatrixDisplay.from_predictions(y_test,y_pred)"
      ],
      "metadata": {
        "colab": {
          "base_uri": "https://localhost:8080/",
          "height": 296
        },
        "id": "wn6L5h7qb2Ub",
        "outputId": "db5fb066-50cf-47f1-8ee9-57b6e491cdf8"
      },
      "execution_count": null,
      "outputs": [
        {
          "output_type": "execute_result",
          "data": {
            "text/plain": [
              "<sklearn.metrics._plot.confusion_matrix.ConfusionMatrixDisplay at 0x7fd6facc33d0>"
            ]
          },
          "metadata": {},
          "execution_count": 63
        },
        {
          "output_type": "display_data",
          "data": {
            "text/plain": [
              "<Figure size 432x288 with 2 Axes>"
            ],
            "image/png": "[encoded data removed]"
          },
          "metadata": {
            "needs_background": "light"
          }
        }
      ]
    }
  ]
}