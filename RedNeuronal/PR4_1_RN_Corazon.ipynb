{
  "nbformat": 4,
  "nbformat_minor": 0,
  "metadata": {
    "colab": {
      "name": "PR4_1_RN_Corazon.ipynb",
      "provenance": [],
      "collapsed_sections": []
    },
    "kernelspec": {
      "name": "python3",
      "display_name": "Python 3"
    },
    "language_info": {
      "name": "python"
    }
  },
  "cells": [
    {
      "cell_type": "markdown",
      "source": [
        "# IMPORTACIONES"
      ],
      "metadata": {
        "id": "Dd-IiAobhwQE"
      }
    },
    {
      "cell_type": "code",
      "source": [
        "import pandas as pd\n",
        "import numpy as npç\n",
        "from tensorflow import keras\n",
        "import tensorflow as tf\n",
        "from tensorflow.keras.models import Sequential\n",
        "import tensorflow as tf\n",
        "from keras.utils.vis_utils import model_to_dot\n",
        "from IPython.display import SVG\n",
        "from sklearn.model_selection import train_test_split\n",
        "from sklearn.metrics import confusion_matrix, ConfusionMatrixDisplay\n",
        "import matplotlib.pyplot as plt"
      ],
      "metadata": {
        "id": "q30gu9p5-Cuz"
      },
      "execution_count": null,
      "outputs": []
    },
    {
      "cell_type": "markdown",
      "source": [
        "# Definir conjunto de entrenamiento\n"
      ],
      "metadata": {
        "id": "KOSBpGEM9GVN"
      }
    },
    {
      "cell_type": "code",
      "source": [
        "heart = pd.read_csv('/content/heart.csv')"
      ],
      "metadata": {
        "id": "4nb93cCP-uzj"
      },
      "execution_count": null,
      "outputs": []
    },
    {
      "cell_type": "code",
      "source": [
        "x_heart = heart.drop('target', axis = 1)\n",
        "y_heart = heart['target']\n",
        "y_heart"
      ],
      "metadata": {
        "colab": {
          "base_uri": "https://localhost:8080/"
        },
        "id": "K81BW5SH_dgB",
        "outputId": "001c65bb-0863-41ad-aac3-abf467e5c4aa"
      },
      "execution_count": null,
      "outputs": [
        {
          "output_type": "execute_result",
          "data": {
            "text/plain": [
              "0      1\n",
              "1      1\n",
              "2      1\n",
              "3      1\n",
              "4      1\n",
              "      ..\n",
              "298    0\n",
              "299    0\n",
              "300    0\n",
              "301    0\n",
              "302    0\n",
              "Name: target, Length: 303, dtype: int64"
            ]
          },
          "metadata": {},
          "execution_count": 64
        }
      ]
    },
    {
      "cell_type": "code",
      "source": [
        "y_heart"
      ],
      "metadata": {
        "colab": {
          "base_uri": "https://localhost:8080/"
        },
        "id": "UoY6Ezve_x2I",
        "outputId": "b63c3490-1459-4e8b-dfb0-2bf82fc35006"
      },
      "execution_count": null,
      "outputs": [
        {
          "output_type": "execute_result",
          "data": {
            "text/plain": [
              "0      1\n",
              "1      1\n",
              "2      1\n",
              "3      1\n",
              "4      1\n",
              "      ..\n",
              "298    0\n",
              "299    0\n",
              "300    0\n",
              "301    0\n",
              "302    0\n",
              "Name: target, Length: 303, dtype: int64"
            ]
          },
          "metadata": {},
          "execution_count": 65
        }
      ]
    },
    {
      "cell_type": "code",
      "source": [
        "x_train,x_test, y_train, y_test = train_test_split(x_heart,y_heart, random_state=1, test_size=0.25)"
      ],
      "metadata": {
        "id": "EIqyQJbm_Sj6"
      },
      "execution_count": null,
      "outputs": []
    },
    {
      "cell_type": "markdown",
      "source": [
        "# Definir el modelo de red neuronal"
      ],
      "metadata": {
        "id": "5xFQuPpS9PL6"
      }
    },
    {
      "cell_type": "code",
      "source": [
        "x_train.shape"
      ],
      "metadata": {
        "colab": {
          "base_uri": "https://localhost:8080/"
        },
        "id": "uqMvhAGjDzfq",
        "outputId": "63a0dd60-f1b1-4091-ea6a-639f3064e315"
      },
      "execution_count": null,
      "outputs": [
        {
          "output_type": "execute_result",
          "data": {
            "text/plain": [
              "(227, 13)"
            ]
          },
          "metadata": {},
          "execution_count": 67
        }
      ]
    },
    {
      "cell_type": "code",
      "source": [
        "input_sh = x_train.shape[1]\n",
        "\n",
        "model = keras.Sequential([\n",
        "        keras.layers.Dense(4, activation = 'relu', input_dim=input_sh),\n",
        "        keras.layers.Dense(2, activation = 'relu'),\n",
        "        keras.layers.Dense(1, activation = 'sigmoid')\n",
        "])"
      ],
      "metadata": {
        "id": "e-3UPwL-ArA9"
      },
      "execution_count": null,
      "outputs": []
    },
    {
      "cell_type": "code",
      "source": [
        "model.summary()"
      ],
      "metadata": {
        "colab": {
          "base_uri": "https://localhost:8080/"
        },
        "id": "4LnagHvDCP1I",
        "outputId": "48b59c10-d90a-4a0d-db64-db3e0a6a6fd4"
      },
      "execution_count": null,
      "outputs": [
        {
          "output_type": "stream",
          "name": "stdout",
          "text": [
            "Model: \"sequential_4\"\n",
            "_________________________________________________________________\n",
            " Layer (type)                Output Shape              Param #   \n",
            "=================================================================\n",
            " dense_12 (Dense)            (None, 4)                 56        \n",
            "                                                                 \n",
            " dense_13 (Dense)            (None, 2)                 10        \n",
            "                                                                 \n",
            " dense_14 (Dense)            (None, 1)                 3         \n",
            "                                                                 \n",
            "=================================================================\n",
            "Total params: 69\n",
            "Trainable params: 69\n",
            "Non-trainable params: 0\n",
            "_________________________________________________________________\n"
          ]
        }
      ]
    },
    {
      "cell_type": "code",
      "source": [
        "SVG(model_to_dot(model,show_shapes=True, show_dtype=True, dpi = 65).create(prog = 'dot', format = 'svg'))"
      ],
      "metadata": {
        "colab": {
          "base_uri": "https://localhost:8080/",
          "height": 497
        },
        "id": "NrFYWSChWxIg",
        "outputId": "342f195e-60e5-4bdd-9866-514ecfbc15c1"
      },
      "execution_count": null,
      "outputs": [
        {
          "output_type": "execute_result",
          "data": {
            "text/plain": [
              "<IPython.core.display.SVG object>"
            ],
            "image/svg+xml": "<svg height=\"357pt\" viewBox=\"0.00 0.00 353.00 396.00\" width=\"319pt\" xmlns=\"http://www.w3.org/2000/svg\" xmlns:xlink=\"http://www.w3.org/1999/xlink\">\n<g class=\"graph\" id=\"graph0\" transform=\"scale(.9028 .9028) rotate(0) translate(4 392)\">\n<title>G</title>\n<polygon fill=\"#ffffff\" points=\"-4,4 -4,-392 349,-392 349,4 -4,4\" stroke=\"transparent\"/>\n<!-- 140384011570128 -->\n<g class=\"node\" id=\"node1\">\n<title>140384011570128</title>\n<polygon fill=\"none\" points=\"0,-318.5 0,-387.5 345,-387.5 345,-318.5 0,-318.5\" stroke=\"#000000\"/>\n<text fill=\"#000000\" font-family=\"Times,serif\" font-size=\"14.00\" text-anchor=\"middle\" x=\"54.5\" y=\"-372.3\">dense_12_input</text>\n<polyline fill=\"none\" points=\"0,-364.5 109,-364.5 \" stroke=\"#000000\"/>\n<text fill=\"#000000\" font-family=\"Times,serif\" font-size=\"14.00\" text-anchor=\"middle\" x=\"54.5\" y=\"-349.3\">InputLayer</text>\n<polyline fill=\"none\" points=\"0,-341.5 109,-341.5 \" stroke=\"#000000\"/>\n<text fill=\"#000000\" font-family=\"Times,serif\" font-size=\"14.00\" text-anchor=\"middle\" x=\"54.5\" y=\"-326.3\">float32</text>\n<polyline fill=\"none\" points=\"109,-318.5 109,-387.5 \" stroke=\"#000000\"/>\n<text fill=\"#000000\" font-family=\"Times,serif\" font-size=\"14.00\" text-anchor=\"middle\" x=\"138\" y=\"-366.8\">input:</text>\n<polyline fill=\"none\" points=\"109,-353.5 167,-353.5 \" stroke=\"#000000\"/>\n<text fill=\"#000000\" font-family=\"Times,serif\" font-size=\"14.00\" text-anchor=\"middle\" x=\"138\" y=\"-332.3\">output:</text>\n<polyline fill=\"none\" points=\"167,-318.5 167,-387.5 \" stroke=\"#000000\"/>\n<text fill=\"#000000\" font-family=\"Times,serif\" font-size=\"14.00\" text-anchor=\"middle\" x=\"211.5\" y=\"-349.3\">[(None, 13)]</text>\n<polyline fill=\"none\" points=\"256,-318.5 256,-387.5 \" stroke=\"#000000\"/>\n<text fill=\"#000000\" font-family=\"Times,serif\" font-size=\"14.00\" text-anchor=\"middle\" x=\"300.5\" y=\"-349.3\">[(None, 13)]</text>\n</g>\n<!-- 140384011479632 -->\n<g class=\"node\" id=\"node2\">\n<title>140384011479632</title>\n<polygon fill=\"none\" points=\"32,-212.5 32,-281.5 313,-281.5 313,-212.5 32,-212.5\" stroke=\"#000000\"/>\n<text fill=\"#000000\" font-family=\"Times,serif\" font-size=\"14.00\" text-anchor=\"middle\" x=\"67.5\" y=\"-266.3\">dense_12</text>\n<polyline fill=\"none\" points=\"32,-258.5 103,-258.5 \" stroke=\"#000000\"/>\n<text fill=\"#000000\" font-family=\"Times,serif\" font-size=\"14.00\" text-anchor=\"middle\" x=\"67.5\" y=\"-243.3\">Dense</text>\n<polyline fill=\"none\" points=\"32,-235.5 103,-235.5 \" stroke=\"#000000\"/>\n<text fill=\"#000000\" font-family=\"Times,serif\" font-size=\"14.00\" text-anchor=\"middle\" x=\"67.5\" y=\"-220.3\">float32</text>\n<polyline fill=\"none\" points=\"103,-212.5 103,-281.5 \" stroke=\"#000000\"/>\n<text fill=\"#000000\" font-family=\"Times,serif\" font-size=\"14.00\" text-anchor=\"middle\" x=\"132\" y=\"-260.8\">input:</text>\n<polyline fill=\"none\" points=\"103,-247.5 161,-247.5 \" stroke=\"#000000\"/>\n<text fill=\"#000000\" font-family=\"Times,serif\" font-size=\"14.00\" text-anchor=\"middle\" x=\"132\" y=\"-226.3\">output:</text>\n<polyline fill=\"none\" points=\"161,-212.5 161,-281.5 \" stroke=\"#000000\"/>\n<text fill=\"#000000\" font-family=\"Times,serif\" font-size=\"14.00\" text-anchor=\"middle\" x=\"201\" y=\"-243.3\">(None, 13)</text>\n<polyline fill=\"none\" points=\"241,-212.5 241,-281.5 \" stroke=\"#000000\"/>\n<text fill=\"#000000\" font-family=\"Times,serif\" font-size=\"14.00\" text-anchor=\"middle\" x=\"277\" y=\"-243.3\">(None, 4)</text>\n</g>\n<!-- 140384011570128&#45;&gt;140384011479632 -->\n<g class=\"edge\" id=\"edge1\">\n<title>140384011570128-&gt;140384011479632</title>\n<path d=\"M172.5,-318.2916C172.5,-309.8725 172.5,-300.7515 172.5,-291.9354\" fill=\"none\" stroke=\"#000000\"/>\n<polygon fill=\"#000000\" points=\"176.0001,-291.7863 172.5,-281.7863 169.0001,-291.7864 176.0001,-291.7863\" stroke=\"#000000\"/>\n</g>\n<!-- 140384011480400 -->\n<g class=\"node\" id=\"node3\">\n<title>140384011480400</title>\n<polygon fill=\"none\" points=\"36,-106.5 36,-175.5 309,-175.5 309,-106.5 36,-106.5\" stroke=\"#000000\"/>\n<text fill=\"#000000\" font-family=\"Times,serif\" font-size=\"14.00\" text-anchor=\"middle\" x=\"71.5\" y=\"-160.3\">dense_13</text>\n<polyline fill=\"none\" points=\"36,-152.5 107,-152.5 \" stroke=\"#000000\"/>\n<text fill=\"#000000\" font-family=\"Times,serif\" font-size=\"14.00\" text-anchor=\"middle\" x=\"71.5\" y=\"-137.3\">Dense</text>\n<polyline fill=\"none\" points=\"36,-129.5 107,-129.5 \" stroke=\"#000000\"/>\n<text fill=\"#000000\" font-family=\"Times,serif\" font-size=\"14.00\" text-anchor=\"middle\" x=\"71.5\" y=\"-114.3\">float32</text>\n<polyline fill=\"none\" points=\"107,-106.5 107,-175.5 \" stroke=\"#000000\"/>\n<text fill=\"#000000\" font-family=\"Times,serif\" font-size=\"14.00\" text-anchor=\"middle\" x=\"136\" y=\"-154.8\">input:</text>\n<polyline fill=\"none\" points=\"107,-141.5 165,-141.5 \" stroke=\"#000000\"/>\n<text fill=\"#000000\" font-family=\"Times,serif\" font-size=\"14.00\" text-anchor=\"middle\" x=\"136\" y=\"-120.3\">output:</text>\n<polyline fill=\"none\" points=\"165,-106.5 165,-175.5 \" stroke=\"#000000\"/>\n<text fill=\"#000000\" font-family=\"Times,serif\" font-size=\"14.00\" text-anchor=\"middle\" x=\"201\" y=\"-137.3\">(None, 4)</text>\n<polyline fill=\"none\" points=\"237,-106.5 237,-175.5 \" stroke=\"#000000\"/>\n<text fill=\"#000000\" font-family=\"Times,serif\" font-size=\"14.00\" text-anchor=\"middle\" x=\"273\" y=\"-137.3\">(None, 2)</text>\n</g>\n<!-- 140384011479632&#45;&gt;140384011480400 -->\n<g class=\"edge\" id=\"edge2\">\n<title>140384011479632-&gt;140384011480400</title>\n<path d=\"M172.5,-212.2916C172.5,-203.8725 172.5,-194.7515 172.5,-185.9354\" fill=\"none\" stroke=\"#000000\"/>\n<polygon fill=\"#000000\" points=\"176.0001,-185.7863 172.5,-175.7863 169.0001,-185.7864 176.0001,-185.7863\" stroke=\"#000000\"/>\n</g>\n<!-- 140384011567376 -->\n<g class=\"node\" id=\"node4\">\n<title>140384011567376</title>\n<polygon fill=\"none\" points=\"36,-.5 36,-69.5 309,-69.5 309,-.5 36,-.5\" stroke=\"#000000\"/>\n<text fill=\"#000000\" font-family=\"Times,serif\" font-size=\"14.00\" text-anchor=\"middle\" x=\"71.5\" y=\"-54.3\">dense_14</text>\n<polyline fill=\"none\" points=\"36,-46.5 107,-46.5 \" stroke=\"#000000\"/>\n<text fill=\"#000000\" font-family=\"Times,serif\" font-size=\"14.00\" text-anchor=\"middle\" x=\"71.5\" y=\"-31.3\">Dense</text>\n<polyline fill=\"none\" points=\"36,-23.5 107,-23.5 \" stroke=\"#000000\"/>\n<text fill=\"#000000\" font-family=\"Times,serif\" font-size=\"14.00\" text-anchor=\"middle\" x=\"71.5\" y=\"-8.3\">float32</text>\n<polyline fill=\"none\" points=\"107,-.5 107,-69.5 \" stroke=\"#000000\"/>\n<text fill=\"#000000\" font-family=\"Times,serif\" font-size=\"14.00\" text-anchor=\"middle\" x=\"136\" y=\"-48.8\">input:</text>\n<polyline fill=\"none\" points=\"107,-35.5 165,-35.5 \" stroke=\"#000000\"/>\n<text fill=\"#000000\" font-family=\"Times,serif\" font-size=\"14.00\" text-anchor=\"middle\" x=\"136\" y=\"-14.3\">output:</text>\n<polyline fill=\"none\" points=\"165,-.5 165,-69.5 \" stroke=\"#000000\"/>\n<text fill=\"#000000\" font-family=\"Times,serif\" font-size=\"14.00\" text-anchor=\"middle\" x=\"201\" y=\"-31.3\">(None, 2)</text>\n<polyline fill=\"none\" points=\"237,-.5 237,-69.5 \" stroke=\"#000000\"/>\n<text fill=\"#000000\" font-family=\"Times,serif\" font-size=\"14.00\" text-anchor=\"middle\" x=\"273\" y=\"-31.3\">(None, 1)</text>\n</g>\n<!-- 140384011480400&#45;&gt;140384011567376 -->\n<g class=\"edge\" id=\"edge3\">\n<title>140384011480400-&gt;140384011567376</title>\n<path d=\"M172.5,-106.2916C172.5,-97.8725 172.5,-88.7515 172.5,-79.9354\" fill=\"none\" stroke=\"#000000\"/>\n<polygon fill=\"#000000\" points=\"176.0001,-79.7863 172.5,-69.7863 169.0001,-79.7864 176.0001,-79.7863\" stroke=\"#000000\"/>\n</g>\n</g>\n</svg>"
          },
          "metadata": {},
          "execution_count": 70
        }
      ]
    },
    {
      "cell_type": "markdown",
      "source": [
        "# Configurar el proceso de aprendizaje"
      ],
      "metadata": {
        "id": "K0efqaWT9S71"
      }
    },
    {
      "cell_type": "code",
      "source": [
        "model.compile(optimizer='adam', loss = 'binary_crossentropy',metrics=['binary_accuracy'] )"
      ],
      "metadata": {
        "id": "ybZYxzhDCUoi"
      },
      "execution_count": null,
      "outputs": []
    },
    {
      "cell_type": "markdown",
      "source": [
        "# Entrenar el modelo"
      ],
      "metadata": {
        "id": "MJPvY0ab9Vxj"
      }
    },
    {
      "cell_type": "code",
      "source": [
        "model.fit(x_train,y_train, batch_size=10, epochs=15)"
      ],
      "metadata": {
        "colab": {
          "base_uri": "https://localhost:8080/"
        },
        "id": "YN61dJYmXhtV",
        "outputId": "557f5469-ce3a-40f2-8257-f761e899dff8"
      },
      "execution_count": null,
      "outputs": [
        {
          "output_type": "stream",
          "name": "stdout",
          "text": [
            "Epoch 1/15\n",
            "23/23 [==============================] - 1s 2ms/step - loss: 1.1758 - binary_accuracy: 0.6079\n",
            "Epoch 2/15\n",
            "23/23 [==============================] - 0s 2ms/step - loss: 0.6962 - binary_accuracy: 0.6520\n",
            "Epoch 3/15\n",
            "23/23 [==============================] - 0s 2ms/step - loss: 0.6703 - binary_accuracy: 0.6432\n",
            "Epoch 4/15\n",
            "23/23 [==============================] - 0s 1ms/step - loss: 0.6642 - binary_accuracy: 0.6388\n",
            "Epoch 5/15\n",
            "23/23 [==============================] - 0s 2ms/step - loss: 0.6630 - binary_accuracy: 0.6344\n",
            "Epoch 6/15\n",
            "23/23 [==============================] - 0s 2ms/step - loss: 0.6621 - binary_accuracy: 0.6300\n",
            "Epoch 7/15\n",
            "23/23 [==============================] - 0s 2ms/step - loss: 0.6605 - binary_accuracy: 0.6300\n",
            "Epoch 8/15\n",
            "23/23 [==============================] - 0s 2ms/step - loss: 0.6598 - binary_accuracy: 0.6388\n",
            "Epoch 9/15\n",
            "23/23 [==============================] - 0s 2ms/step - loss: 0.6600 - binary_accuracy: 0.6300\n",
            "Epoch 10/15\n",
            "23/23 [==============================] - 0s 2ms/step - loss: 0.6568 - binary_accuracy: 0.6344\n",
            "Epoch 11/15\n",
            "23/23 [==============================] - 0s 2ms/step - loss: 0.6570 - binary_accuracy: 0.6344\n",
            "Epoch 12/15\n",
            "23/23 [==============================] - 0s 2ms/step - loss: 0.6548 - binary_accuracy: 0.6388\n",
            "Epoch 13/15\n",
            "23/23 [==============================] - 0s 2ms/step - loss: 0.6547 - binary_accuracy: 0.6344\n",
            "Epoch 14/15\n",
            "23/23 [==============================] - 0s 2ms/step - loss: 0.6531 - binary_accuracy: 0.6388\n",
            "Epoch 15/15\n",
            "23/23 [==============================] - 0s 2ms/step - loss: 0.6540 - binary_accuracy: 0.6432\n"
          ]
        },
        {
          "output_type": "execute_result",
          "data": {
            "text/plain": [
              "<keras.callbacks.History at 0x7fadb31fb090>"
            ]
          },
          "metadata": {},
          "execution_count": 72
        }
      ]
    },
    {
      "cell_type": "markdown",
      "source": [
        "# Evaluar el modelo"
      ],
      "metadata": {
        "id": "IBsvQyqY9Xr0"
      }
    },
    {
      "cell_type": "code",
      "source": [
        "score = model.evaluate(x_test,y_test, verbose = 0)\n",
        "print('Test loss:', score [0])\n",
        "print('Test accuracy:', score [1])"
      ],
      "metadata": {
        "colab": {
          "base_uri": "https://localhost:8080/"
        },
        "id": "uVxrXsx5aYhp",
        "outputId": "246cc8f9-f964-47af-bcd8-432ad0353b96"
      },
      "execution_count": null,
      "outputs": [
        {
          "output_type": "stream",
          "name": "stdout",
          "text": [
            "WARNING:tensorflow:5 out of the last 13 calls to <function Model.make_test_function.<locals>.test_function at 0x7fadb31e4200> triggered tf.function retracing. Tracing is expensive and the excessive number of tracings could be due to (1) creating @tf.function repeatedly in a loop, (2) passing tensors with different shapes, (3) passing Python objects instead of tensors. For (1), please define your @tf.function outside of the loop. For (2), @tf.function has experimental_relax_shapes=True option that relaxes argument shapes that can avoid unnecessary retracing. For (3), please refer to https://www.tensorflow.org/guide/function#controlling_retracing and https://www.tensorflow.org/api_docs/python/tf/function for  more details.\n",
            "Test loss: 0.6914663910865784\n",
            "Test accuracy: 0.6184210777282715\n"
          ]
        }
      ]
    },
    {
      "cell_type": "code",
      "source": [
        "y_pred = model.predict(x_test).round()\n",
        "ConfusionMatrixDisplay.from_predictions(y_test,y_pred)"
      ],
      "metadata": {
        "colab": {
          "base_uri": "https://localhost:8080/",
          "height": 296
        },
        "id": "wn6L5h7qb2Ub",
        "outputId": "4b569cb9-cdef-41f3-8284-89c6445342a1"
      },
      "execution_count": null,
      "outputs": [
        {
          "output_type": "execute_result",
          "data": {
            "text/plain": [
              "<sklearn.metrics._plot.confusion_matrix.ConfusionMatrixDisplay at 0x7fadadfc8fd0>"
            ]
          },
          "metadata": {},
          "execution_count": 74
        },
        {
          "output_type": "display_data",
          "data": {
            "text/plain": [
              "<Figure size 432x288 with 2 Axes>"
            ],
            "image/png": "[encoded data removed]"
          },
          "metadata": {
            "needs_background": "light"
          }
        }
      ]
    }
  ]
}