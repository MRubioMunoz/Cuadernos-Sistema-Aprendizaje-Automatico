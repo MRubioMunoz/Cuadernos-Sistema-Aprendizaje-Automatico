{
  "nbformat": 4,
  "nbformat_minor": 0,
  "metadata": {
    "colab": {
      "name": "PR_2_2_knn_Vinos.ipynb",
      "provenance": [],
      "collapsed_sections": []
    },
    "kernelspec": {
      "name": "python3",
      "display_name": "Python 3"
    },
    "language_info": {
      "name": "python"
    }
  },
  "cells": [
    {
      "cell_type": "code",
      "execution_count": null,
      "metadata": {
        "id": "B9QuHxEh9Rbx"
      },
      "outputs": [],
      "source": [
        "import pandas as pd\n",
        "import seaborn as sbn\n",
        "import numpy as np\n",
        "from sklearn.model_selection import train_test_split\n",
        "from sklearn.neighbors import KNeighborsClassifier, KNeighborsRegressor\n",
        "from sklearn.metrics import accuracy_score, ConfusionMatrixDisplay\n",
        "from sklearn.metrics import accuracy_score\n",
        "from sklearn.model_selection import KFold"
      ]
    },
    {
      "cell_type": "markdown",
      "source": [
        "Preprocesamiento"
      ],
      "metadata": {
        "id": "rCAo7khcNzTQ"
      }
    },
    {
      "cell_type": "code",
      "source": [
        "#Importación de los datos del dataset y Mostrar las primeras y últimas filas del dataframe importado\n",
        "\n",
        "wines = pd.read_csv('/content/WineQT.csv')\n",
        "wines"
      ],
      "metadata": {
        "colab": {
          "base_uri": "https://localhost:8080/",
          "height": 424
        },
        "id": "ON3GDk289vdL",
        "outputId": "e2db0b38-7409-4ef1-e2b6-d74376bb66ec"
      },
      "execution_count": null,
      "outputs": [
        {
          "output_type": "execute_result",
          "data": {
            "text/html": [
              "\n",
              "  <div id=\"df-f3b6f130-7db7-4962-9611-143cc3883729\">\n",
              "    <div class=\"colab-df-container\">\n",
              "      <div>\n",
              "<style scoped>\n",
              "    .dataframe tbody tr th:only-of-type {\n",
              "        vertical-align: middle;\n",
              "    }\n",
              "\n",
              "    .dataframe tbody tr th {\n",
              "        vertical-align: top;\n",
              "    }\n",
              "\n",
              "    .dataframe thead th {\n",
              "        text-align: right;\n",
              "    }\n",
              "</style>\n",
              "<table border=\"1\" class=\"dataframe\">\n",
              "  <thead>\n",
              "    <tr style=\"text-align: right;\">\n",
              "      <th></th>\n",
              "      <th>fixed acidity</th>\n",
              "      <th>volatile acidity</th>\n",
              "      <th>citric acid</th>\n",
              "      <th>residual sugar</th>\n",
              "      <th>chlorides</th>\n",
              "      <th>free sulfur dioxide</th>\n",
              "      <th>total sulfur dioxide</th>\n",
              "      <th>density</th>\n",
              "      <th>pH</th>\n",
              "      <th>sulphates</th>\n",
              "      <th>alcohol</th>\n",
              "      <th>quality</th>\n",
              "      <th>Id</th>\n",
              "    </tr>\n",
              "  </thead>\n",
              "  <tbody>\n",
              "    <tr>\n",
              "      <th>0</th>\n",
              "      <td>7.4</td>\n",
              "      <td>0.700</td>\n",
              "      <td>0.00</td>\n",
              "      <td>1.9</td>\n",
              "      <td>0.076</td>\n",
              "      <td>11.0</td>\n",
              "      <td>34.0</td>\n",
              "      <td>0.99780</td>\n",
              "      <td>3.51</td>\n",
              "      <td>0.56</td>\n",
              "      <td>9.4</td>\n",
              "      <td>5</td>\n",
              "      <td>0</td>\n",
              "    </tr>\n",
              "    <tr>\n",
              "      <th>1</th>\n",
              "      <td>7.8</td>\n",
              "      <td>0.880</td>\n",
              "      <td>0.00</td>\n",
              "      <td>2.6</td>\n",
              "      <td>0.098</td>\n",
              "      <td>25.0</td>\n",
              "      <td>67.0</td>\n",
              "      <td>0.99680</td>\n",
              "      <td>3.20</td>\n",
              "      <td>0.68</td>\n",
              "      <td>9.8</td>\n",
              "      <td>5</td>\n",
              "      <td>1</td>\n",
              "    </tr>\n",
              "    <tr>\n",
              "      <th>2</th>\n",
              "      <td>7.8</td>\n",
              "      <td>0.760</td>\n",
              "      <td>0.04</td>\n",
              "      <td>2.3</td>\n",
              "      <td>0.092</td>\n",
              "      <td>15.0</td>\n",
              "      <td>54.0</td>\n",
              "      <td>0.99700</td>\n",
              "      <td>3.26</td>\n",
              "      <td>0.65</td>\n",
              "      <td>9.8</td>\n",
              "      <td>5</td>\n",
              "      <td>2</td>\n",
              "    </tr>\n",
              "    <tr>\n",
              "      <th>3</th>\n",
              "      <td>11.2</td>\n",
              "      <td>0.280</td>\n",
              "      <td>0.56</td>\n",
              "      <td>1.9</td>\n",
              "      <td>0.075</td>\n",
              "      <td>17.0</td>\n",
              "      <td>60.0</td>\n",
              "      <td>0.99800</td>\n",
              "      <td>3.16</td>\n",
              "      <td>0.58</td>\n",
              "      <td>9.8</td>\n",
              "      <td>6</td>\n",
              "      <td>3</td>\n",
              "    </tr>\n",
              "    <tr>\n",
              "      <th>4</th>\n",
              "      <td>7.4</td>\n",
              "      <td>0.700</td>\n",
              "      <td>0.00</td>\n",
              "      <td>1.9</td>\n",
              "      <td>0.076</td>\n",
              "      <td>11.0</td>\n",
              "      <td>34.0</td>\n",
              "      <td>0.99780</td>\n",
              "      <td>3.51</td>\n",
              "      <td>0.56</td>\n",
              "      <td>9.4</td>\n",
              "      <td>5</td>\n",
              "      <td>4</td>\n",
              "    </tr>\n",
              "    <tr>\n",
              "      <th>...</th>\n",
              "      <td>...</td>\n",
              "      <td>...</td>\n",
              "      <td>...</td>\n",
              "      <td>...</td>\n",
              "      <td>...</td>\n",
              "      <td>...</td>\n",
              "      <td>...</td>\n",
              "      <td>...</td>\n",
              "      <td>...</td>\n",
              "      <td>...</td>\n",
              "      <td>...</td>\n",
              "      <td>...</td>\n",
              "      <td>...</td>\n",
              "    </tr>\n",
              "    <tr>\n",
              "      <th>1138</th>\n",
              "      <td>6.3</td>\n",
              "      <td>0.510</td>\n",
              "      <td>0.13</td>\n",
              "      <td>2.3</td>\n",
              "      <td>0.076</td>\n",
              "      <td>29.0</td>\n",
              "      <td>40.0</td>\n",
              "      <td>0.99574</td>\n",
              "      <td>3.42</td>\n",
              "      <td>0.75</td>\n",
              "      <td>11.0</td>\n",
              "      <td>6</td>\n",
              "      <td>1592</td>\n",
              "    </tr>\n",
              "    <tr>\n",
              "      <th>1139</th>\n",
              "      <td>6.8</td>\n",
              "      <td>0.620</td>\n",
              "      <td>0.08</td>\n",
              "      <td>1.9</td>\n",
              "      <td>0.068</td>\n",
              "      <td>28.0</td>\n",
              "      <td>38.0</td>\n",
              "      <td>0.99651</td>\n",
              "      <td>3.42</td>\n",
              "      <td>0.82</td>\n",
              "      <td>9.5</td>\n",
              "      <td>6</td>\n",
              "      <td>1593</td>\n",
              "    </tr>\n",
              "    <tr>\n",
              "      <th>1140</th>\n",
              "      <td>6.2</td>\n",
              "      <td>0.600</td>\n",
              "      <td>0.08</td>\n",
              "      <td>2.0</td>\n",
              "      <td>0.090</td>\n",
              "      <td>32.0</td>\n",
              "      <td>44.0</td>\n",
              "      <td>0.99490</td>\n",
              "      <td>3.45</td>\n",
              "      <td>0.58</td>\n",
              "      <td>10.5</td>\n",
              "      <td>5</td>\n",
              "      <td>1594</td>\n",
              "    </tr>\n",
              "    <tr>\n",
              "      <th>1141</th>\n",
              "      <td>5.9</td>\n",
              "      <td>0.550</td>\n",
              "      <td>0.10</td>\n",
              "      <td>2.2</td>\n",
              "      <td>0.062</td>\n",
              "      <td>39.0</td>\n",
              "      <td>51.0</td>\n",
              "      <td>0.99512</td>\n",
              "      <td>3.52</td>\n",
              "      <td>0.76</td>\n",
              "      <td>11.2</td>\n",
              "      <td>6</td>\n",
              "      <td>1595</td>\n",
              "    </tr>\n",
              "    <tr>\n",
              "      <th>1142</th>\n",
              "      <td>5.9</td>\n",
              "      <td>0.645</td>\n",
              "      <td>0.12</td>\n",
              "      <td>2.0</td>\n",
              "      <td>0.075</td>\n",
              "      <td>32.0</td>\n",
              "      <td>44.0</td>\n",
              "      <td>0.99547</td>\n",
              "      <td>3.57</td>\n",
              "      <td>0.71</td>\n",
              "      <td>10.2</td>\n",
              "      <td>5</td>\n",
              "      <td>1597</td>\n",
              "    </tr>\n",
              "  </tbody>\n",
              "</table>\n",
              "<p>1143 rows × 13 columns</p>\n",
              "</div>\n",
              "      <button class=\"colab-df-convert\" onclick=\"convertToInteractive('df-f3b6f130-7db7-4962-9611-143cc3883729')\"\n",
              "              title=\"Convert this dataframe to an interactive table.\"\n",
              "              style=\"display:none;\">\n",
              "        \n",
              "  <svg xmlns=\"http://www.w3.org/2000/svg\" height=\"24px\"viewBox=\"0 0 24 24\"\n",
              "       width=\"24px\">\n",
              "    <path d=\"M0 0h24v24H0V0z\" fill=\"none\"/>\n",
              "    <path d=\"M18.56 5.44l.94 2.06.94-2.06 2.06-.94-2.06-.94-.94-2.06-.94 2.06-2.06.94zm-11 1L8.5 8.5l.94-2.06 2.06-.94-2.06-.94L8.5 2.5l-.94 2.06-2.06.94zm10 10l.94 2.06.94-2.06 2.06-.94-2.06-.94-.94-2.06-.94 2.06-2.06.94z\"/><path d=\"M17.41 7.96l-1.37-1.37c-.4-.4-.92-.59-1.43-.59-.52 0-1.04.2-1.43.59L10.3 9.45l-7.72 7.72c-.78.78-.78 2.05 0 2.83L4 21.41c.39.39.9.59 1.41.59.51 0 1.02-.2 1.41-.59l7.78-7.78 2.81-2.81c.8-.78.8-2.07 0-2.86zM5.41 20L4 18.59l7.72-7.72 1.47 1.35L5.41 20z\"/>\n",
              "  </svg>\n",
              "      </button>\n",
              "      \n",
              "  <style>\n",
              "    .colab-df-container {\n",
              "      display:flex;\n",
              "      flex-wrap:wrap;\n",
              "      gap: 12px;\n",
              "    }\n",
              "\n",
              "    .colab-df-convert {\n",
              "      background-color: #E8F0FE;\n",
              "      border: none;\n",
              "      border-radius: 50%;\n",
              "      cursor: pointer;\n",
              "      display: none;\n",
              "      fill: #1967D2;\n",
              "      height: 32px;\n",
              "      padding: 0 0 0 0;\n",
              "      width: 32px;\n",
              "    }\n",
              "\n",
              "    .colab-df-convert:hover {\n",
              "      background-color: #E2EBFA;\n",
              "      box-shadow: 0px 1px 2px rgba(60, 64, 67, 0.3), 0px 1px 3px 1px rgba(60, 64, 67, 0.15);\n",
              "      fill: #174EA6;\n",
              "    }\n",
              "\n",
              "    [theme=dark] .colab-df-convert {\n",
              "      background-color: #3B4455;\n",
              "      fill: #D2E3FC;\n",
              "    }\n",
              "\n",
              "    [theme=dark] .colab-df-convert:hover {\n",
              "      background-color: #434B5C;\n",
              "      box-shadow: 0px 1px 3px 1px rgba(0, 0, 0, 0.15);\n",
              "      filter: drop-shadow(0px 1px 2px rgba(0, 0, 0, 0.3));\n",
              "      fill: #FFFFFF;\n",
              "    }\n",
              "  </style>\n",
              "\n",
              "      <script>\n",
              "        const buttonEl =\n",
              "          document.querySelector('#df-f3b6f130-7db7-4962-9611-143cc3883729 button.colab-df-convert');\n",
              "        buttonEl.style.display =\n",
              "          google.colab.kernel.accessAllowed ? 'block' : 'none';\n",
              "\n",
              "        async function convertToInteractive(key) {\n",
              "          const element = document.querySelector('#df-f3b6f130-7db7-4962-9611-143cc3883729');\n",
              "          const dataTable =\n",
              "            await google.colab.kernel.invokeFunction('convertToInteractive',\n",
              "                                                     [key], {});\n",
              "          if (!dataTable) return;\n",
              "\n",
              "          const docLinkHtml = 'Like what you see? Visit the ' +\n",
              "            '<a target=\"_blank\" href=https://colab.research.google.com/notebooks/data_table.ipynb>data table notebook</a>'\n",
              "            + ' to learn more about interactive tables.';\n",
              "          element.innerHTML = '';\n",
              "          dataTable['output_type'] = 'display_data';\n",
              "          await google.colab.output.renderOutput(dataTable, element);\n",
              "          const docLink = document.createElement('div');\n",
              "          docLink.innerHTML = docLinkHtml;\n",
              "          element.appendChild(docLink);\n",
              "        }\n",
              "      </script>\n",
              "    </div>\n",
              "  </div>\n",
              "  "
            ],
            "text/plain": [
              "      fixed acidity  volatile acidity  citric acid  ...  alcohol  quality    Id\n",
              "0               7.4             0.700         0.00  ...      9.4        5     0\n",
              "1               7.8             0.880         0.00  ...      9.8        5     1\n",
              "2               7.8             0.760         0.04  ...      9.8        5     2\n",
              "3              11.2             0.280         0.56  ...      9.8        6     3\n",
              "4               7.4             0.700         0.00  ...      9.4        5     4\n",
              "...             ...               ...          ...  ...      ...      ...   ...\n",
              "1138            6.3             0.510         0.13  ...     11.0        6  1592\n",
              "1139            6.8             0.620         0.08  ...      9.5        6  1593\n",
              "1140            6.2             0.600         0.08  ...     10.5        5  1594\n",
              "1141            5.9             0.550         0.10  ...     11.2        6  1595\n",
              "1142            5.9             0.645         0.12  ...     10.2        5  1597\n",
              "\n",
              "[1143 rows x 13 columns]"
            ]
          },
          "metadata": {},
          "execution_count": 2
        }
      ]
    },
    {
      "cell_type": "code",
      "source": [
        "# Mostrar parámetros estadísticos de los datos (media, desviación típica, cuartiles, etc.)\n",
        "media = np.mean(wines)\n",
        "media"
      ],
      "metadata": {
        "colab": {
          "base_uri": "https://localhost:8080/"
        },
        "id": "iqCg5hEh9yT8",
        "outputId": "02b84f74-e40b-4ba2-c322-2dc620ce42e1"
      },
      "execution_count": null,
      "outputs": [
        {
          "output_type": "execute_result",
          "data": {
            "text/plain": [
              "fixed acidity             8.311111\n",
              "volatile acidity          0.531339\n",
              "citric acid               0.268364\n",
              "residual sugar            2.532152\n",
              "chlorides                 0.086933\n",
              "free sulfur dioxide      15.615486\n",
              "total sulfur dioxide     45.914698\n",
              "density                   0.996730\n",
              "pH                        3.311015\n",
              "sulphates                 0.657708\n",
              "alcohol                  10.442111\n",
              "quality                   5.657043\n",
              "Id                      804.969379\n",
              "dtype: float64"
            ]
          },
          "metadata": {},
          "execution_count": 3
        }
      ]
    },
    {
      "cell_type": "code",
      "source": [
        "mediana = np.median(wines)\n",
        "mediana"
      ],
      "metadata": {
        "colab": {
          "base_uri": "https://localhost:8080/"
        },
        "id": "YX9vI_HV9z9K",
        "outputId": "85821579-ab65-45a1-d2fc-ee1e9a107aa6"
      },
      "execution_count": null,
      "outputs": [
        {
          "output_type": "execute_result",
          "data": {
            "text/plain": [
              "3.34"
            ]
          },
          "metadata": {},
          "execution_count": 4
        }
      ]
    },
    {
      "cell_type": "code",
      "source": [
        "varianza = np.var(wines)\n",
        "varianza"
      ],
      "metadata": {
        "colab": {
          "base_uri": "https://localhost:8080/"
        },
        "id": "0ym9BxMA91Sw",
        "outputId": "63957bc9-72ac-43cb-e076-034c9c92fedf"
      },
      "execution_count": null,
      "outputs": [
        {
          "output_type": "execute_result",
          "data": {
            "text/plain": [
              "fixed acidity                3.051416\n",
              "volatile acidity             0.032240\n",
              "citric acid                  0.038651\n",
              "residual sugar               1.836904\n",
              "chlorides                    0.002232\n",
              "free sulfur dioxide        104.980539\n",
              "total sulfur dioxide      1073.727850\n",
              "density                      0.000004\n",
              "pH                           0.024522\n",
              "sulphates                    0.029010\n",
              "alcohol                      1.170123\n",
              "quality                      0.648785\n",
              "Id                      215104.965816\n",
              "dtype: float64"
            ]
          },
          "metadata": {},
          "execution_count": 5
        }
      ]
    },
    {
      "cell_type": "code",
      "source": [
        "desviacion_tipica = np.std(wines)\n",
        "desviacion_tipica"
      ],
      "metadata": {
        "colab": {
          "base_uri": "https://localhost:8080/"
        },
        "id": "CiHgFcCK925X",
        "outputId": "9cbaef69-995e-46d0-9a5b-1e157617be5b"
      },
      "execution_count": null,
      "outputs": [
        {
          "output_type": "execute_result",
          "data": {
            "text/plain": [
              "fixed acidity             1.746830\n",
              "volatile acidity          0.179555\n",
              "citric acid               0.196600\n",
              "residual sugar            1.355324\n",
              "chlorides                 0.047247\n",
              "free sulfur dioxide      10.246001\n",
              "total sulfur dioxide     32.767787\n",
              "density                   0.001924\n",
              "pH                        0.156596\n",
              "sulphates                 0.170324\n",
              "alcohol                   1.081722\n",
              "quality                   0.805472\n",
              "Id                      463.794099\n",
              "dtype: float64"
            ]
          },
          "metadata": {},
          "execution_count": 6
        }
      ]
    },
    {
      "cell_type": "code",
      "source": [
        "minimo = wines.min()\n",
        "minimo"
      ],
      "metadata": {
        "colab": {
          "base_uri": "https://localhost:8080/"
        },
        "id": "9JidpT3Z94nn",
        "outputId": "9050381e-1bd6-4668-d244-b661ab2d9afc"
      },
      "execution_count": null,
      "outputs": [
        {
          "output_type": "execute_result",
          "data": {
            "text/plain": [
              "fixed acidity           4.60000\n",
              "volatile acidity        0.12000\n",
              "citric acid             0.00000\n",
              "residual sugar          0.90000\n",
              "chlorides               0.01200\n",
              "free sulfur dioxide     1.00000\n",
              "total sulfur dioxide    6.00000\n",
              "density                 0.99007\n",
              "pH                      2.74000\n",
              "sulphates               0.33000\n",
              "alcohol                 8.40000\n",
              "quality                 3.00000\n",
              "Id                      0.00000\n",
              "dtype: float64"
            ]
          },
          "metadata": {},
          "execution_count": 7
        }
      ]
    },
    {
      "cell_type": "code",
      "source": [
        "maximo = wines.max()\n",
        "maximo"
      ],
      "metadata": {
        "colab": {
          "base_uri": "https://localhost:8080/"
        },
        "id": "OBpXIrTu95wh",
        "outputId": "cacf9a17-9091-429e-e338-2529b19b6c2d"
      },
      "execution_count": null,
      "outputs": [
        {
          "output_type": "execute_result",
          "data": {
            "text/plain": [
              "fixed acidity             15.90000\n",
              "volatile acidity           1.58000\n",
              "citric acid                1.00000\n",
              "residual sugar            15.50000\n",
              "chlorides                  0.61100\n",
              "free sulfur dioxide       68.00000\n",
              "total sulfur dioxide     289.00000\n",
              "density                    1.00369\n",
              "pH                         4.01000\n",
              "sulphates                  2.00000\n",
              "alcohol                   14.90000\n",
              "quality                    8.00000\n",
              "Id                      1597.00000\n",
              "dtype: float64"
            ]
          },
          "metadata": {},
          "execution_count": 8
        }
      ]
    },
    {
      "cell_type": "code",
      "source": [
        "Q1 = np.quantile(wines,0.25)\n",
        "Q1"
      ],
      "metadata": {
        "colab": {
          "base_uri": "https://localhost:8080/"
        },
        "id": "Jk7SwUi097pB",
        "outputId": "95fcde6d-afb1-4fb4-8fe0-35529c3098f0"
      },
      "execution_count": null,
      "outputs": [
        {
          "output_type": "execute_result",
          "data": {
            "text/plain": [
              "0.635"
            ]
          },
          "metadata": {},
          "execution_count": 9
        }
      ]
    },
    {
      "cell_type": "code",
      "source": [
        "Q3 = np.quantile(wines,0.75)\n",
        "Q3"
      ],
      "metadata": {
        "colab": {
          "base_uri": "https://localhost:8080/"
        },
        "id": "IIqPuAw698r0",
        "outputId": "73f9c47c-a58b-4943-f3e5-a110d644d34d"
      },
      "execution_count": null,
      "outputs": [
        {
          "output_type": "execute_result",
          "data": {
            "text/plain": [
              "10.1"
            ]
          },
          "metadata": {},
          "execution_count": 10
        }
      ]
    },
    {
      "cell_type": "code",
      "source": [
        "# Mostrar un mapa de calor que indique la correlación entre variables\n",
        "sbn.set(rc = {'figure.figsize':(15,8)})\n",
        "sbn.heatmap(wines.corr(), square=True, annot=True)"
      ],
      "metadata": {
        "colab": {
          "base_uri": "https://localhost:8080/",
          "height": 600
        },
        "id": "RdpDcSzp-AW7",
        "outputId": "3b9e476f-8f13-4ebc-82bc-f55a0d95aa43"
      },
      "execution_count": null,
      "outputs": [
        {
          "output_type": "execute_result",
          "data": {
            "text/plain": [
              "<matplotlib.axes._subplots.AxesSubplot at 0x7f46c03503d0>"
            ]
          },
          "metadata": {},
          "execution_count": 11
        },
        {
          "output_type": "display_data",
          "data": {
            "image/png": "[encoded data removed]",
            "text/plain": [
              "<Figure size 1080x576 with 2 Axes>"
            ]
          },
          "metadata": {}
        }
      ]
    },
    {
      "cell_type": "code",
      "source": [
        "# Seleccionar las características a tener en cuenta en el estudio\n",
        "#Se implementa en la parte de optimizacion\n",
        "wine_opty = wines.drop('volatile acidity', axis = 1)"
      ],
      "metadata": {
        "id": "ts3Q8BCD-WEW"
      },
      "execution_count": null,
      "outputs": []
    },
    {
      "cell_type": "code",
      "source": [
        "# Separar datos entre datos de entrada y etiquetas (resultados)\n",
        "x_wine = wines.drop('quality', axis = 1)\n",
        "y_wine = wines['quality']\n",
        "y_wine\n"
      ],
      "metadata": {
        "colab": {
          "base_uri": "https://localhost:8080/"
        },
        "id": "gHQqi2kCCaJd",
        "outputId": "95ca8b23-14a5-4025-b857-460efa3a06c4"
      },
      "execution_count": null,
      "outputs": [
        {
          "output_type": "execute_result",
          "data": {
            "text/plain": [
              "0       5\n",
              "1       5\n",
              "2       5\n",
              "3       6\n",
              "4       5\n",
              "       ..\n",
              "1138    6\n",
              "1139    6\n",
              "1140    5\n",
              "1141    6\n",
              "1142    5\n",
              "Name: quality, Length: 1143, dtype: int64"
            ]
          },
          "metadata": {},
          "execution_count": 6
        }
      ]
    },
    {
      "cell_type": "code",
      "source": [
        "# Separar datos entre entrenamiento y prueba (usando un 75% para entrenamiento y 25% para test)\n",
        "x_train, x_test, y_train, y_test = train_test_split(x_wine,y_wine, random_state=1, test_size=0.25)\n"
      ],
      "metadata": {
        "id": "AyduZ9oFCcaI"
      },
      "execution_count": null,
      "outputs": []
    },
    {
      "cell_type": "markdown",
      "source": [
        "Entrenamiento y prediccion"
      ],
      "metadata": {
        "id": "LdX-K8dp7SQF"
      }
    },
    {
      "cell_type": "code",
      "source": [
        "# Elegir, instanciar (eligiendo unos valores concretos, por ejemplo k=3 y w=’uniform’) y entrenar el modelo\n",
        "k = 3\n",
        "w = 'uniform'\n",
        "\n",
        "model = KNeighborsClassifier(k, weights=w)\n",
        "model.fit(x_train, y_train)\n",
        "\n",
        "# Realizar una predicción con los datos de prueba\n",
        "y_model = model.predict(x_test)\n"
      ],
      "metadata": {
        "id": "1REmr1sxCm5a"
      },
      "execution_count": null,
      "outputs": []
    },
    {
      "cell_type": "markdown",
      "source": [
        "Evaluación"
      ],
      "metadata": {
        "id": "b81zw4S9KwJ2"
      }
    },
    {
      "cell_type": "code",
      "source": [
        "# Mostrar el porcentaje de elementos correctamente clasificados\n",
        "\n",
        "accuracy_score(y_test,y_model)"
      ],
      "metadata": {
        "colab": {
          "base_uri": "https://localhost:8080/"
        },
        "id": "g3J-nqIYKuY9",
        "outputId": "fae679f8-74ba-4098-eaeb-2ed0f670d515"
      },
      "execution_count": null,
      "outputs": [
        {
          "output_type": "execute_result",
          "data": {
            "text/plain": [
              "0.5734265734265734"
            ]
          },
          "metadata": {},
          "execution_count": 27
        }
      ]
    },
    {
      "cell_type": "code",
      "source": [
        "# Mostrar la predicción realizada (imprimir la variable con la predicción)\n",
        "for i in (0,len(y_model)-1):\n",
        "  print(\"prediccion: {a} real: {b}\".format(a = y_model[i], b = y_wine[i]))"
      ],
      "metadata": {
        "colab": {
          "base_uri": "https://localhost:8080/"
        },
        "id": "mY8U1awwK3Q4",
        "outputId": "444a5e56-25fa-4e8b-fad9-7788baa06639"
      },
      "execution_count": null,
      "outputs": [
        {
          "output_type": "stream",
          "name": "stdout",
          "text": [
            "prediccion: 5 real: 5\n",
            "prediccion: 5 real: 6\n"
          ]
        }
      ]
    },
    {
      "cell_type": "code",
      "source": [
        "# Representar gráficamente la clasificación obtenida (matriz de confusión)\n",
        "ConfusionMatrixDisplay.from_predictions(y_test,y_model)"
      ],
      "metadata": {
        "colab": {
          "base_uri": "https://localhost:8080/",
          "height": 296
        },
        "id": "yLmfzssULR6H",
        "outputId": "aee939e4-b4bb-48ce-cb55-75de4f6e25d6"
      },
      "execution_count": null,
      "outputs": [
        {
          "output_type": "execute_result",
          "data": {
            "text/plain": [
              "<sklearn.metrics._plot.confusion_matrix.ConfusionMatrixDisplay at 0x7f0459160f10>"
            ]
          },
          "metadata": {},
          "execution_count": 21
        },
        {
          "output_type": "display_data",
          "data": {
            "image/png": "[encoded data removed]",
            "text/plain": [
              "<Figure size 432x288 with 2 Axes>"
            ]
          },
          "metadata": {
            "needs_background": "light"
          }
        }
      ]
    },
    {
      "cell_type": "markdown",
      "source": [
        "Optimización\n"
      ],
      "metadata": {
        "id": "DZbiytosNFPo"
      }
    },
    {
      "cell_type": "code",
      "source": [
        "# parámetros: modelo, los datos de entrenamiento separados (x, y)\n",
        "# y el KFold con los splits\n",
        "# devuelve la media de las ejecuciones\n",
        "def validacion_cruzada_cl(model, x, y, kf):\n",
        "  fold_accuracy = []\n",
        "  for train_fold, test_fold in kf.split(x):\n",
        "    # obtengo cada partición\n",
        "    x_train_fold = x.iloc[train_fold]\n",
        "    y_train_fold = y.iloc[train_fold]\n",
        "    x_test_fold = x.iloc[test_fold]\n",
        "    y_test_fold = y.iloc[test_fold]\n",
        "    # entrenamiento\n",
        "    model.fit(x_train_fold, y_train_fold)\n",
        "    # predicción\n",
        "    y_pred = model.predict(x_test_fold)\n",
        "    # evaluación del modelo\n",
        "    acc = accuracy_score(y_test_fold, y_pred)\n",
        "    fold_accuracy.append(acc)\n",
        "  media_score = sum(fold_accuracy)/len(fold_accuracy)\n",
        "  return media_score"
      ],
      "metadata": {
        "id": "uVw_kO5-fUR5"
      },
      "execution_count": null,
      "outputs": []
    },
    {
      "cell_type": "code",
      "source": [
        "kf = KFold(n_splits = 5)\n",
        "\n",
        "for w in ['uniform','distance']:\n",
        "  for k in range(1,31):\n",
        "    model_opti = KNeighborsClassifier(k, weights=w)\n",
        "    media_cruzada = validacion_cruzada_cl(model_opti,x_train,y_train,kf)\n",
        "    print(\"Para k: {k} y w: {w} la media es: {m}\".format(k=k,w=w,m=media_cruzada))\n"
      ],
      "metadata": {
        "colab": {
          "base_uri": "https://localhost:8080/"
        },
        "id": "k4DhN0VrfY3t",
        "outputId": "ee45ac7b-cd1f-4d71-f3f3-986281fb3438"
      },
      "execution_count": null,
      "outputs": [
        {
          "output_type": "stream",
          "name": "stdout",
          "text": [
            "Para k: 1 y w: uniform la media es: 0.488875288997688\n",
            "Para k: 2 y w: uniform la media es: 0.4433632530939753\n",
            "Para k: 3 y w: uniform la media es: 0.4328981368149055\n",
            "Para k: 4 y w: uniform la media es: 0.4422480620155039\n",
            "Para k: 5 y w: uniform la media es: 0.46789065687474496\n",
            "Para k: 6 y w: uniform la media es: 0.4714606283149735\n",
            "Para k: 7 y w: uniform la media es: 0.4865837073303413\n",
            "Para k: 8 y w: uniform la media es: 0.46793825649394805\n",
            "Para k: 9 y w: uniform la media es: 0.47959336325309393\n",
            "Para k: 10 y w: uniform la media es: 0.46789065687474507\n",
            "Para k: 11 y w: uniform la media es: 0.45743234054127574\n",
            "Para k: 12 y w: uniform la media es: 0.45973752209982316\n",
            "Para k: 13 y w: uniform la media es: 0.4620495036039712\n",
            "Para k: 14 y w: uniform la media es: 0.4667006663946688\n",
            "Para k: 15 y w: uniform la media es: 0.4701822385420916\n",
            "Para k: 16 y w: uniform la media es: 0.4678634570923433\n",
            "Para k: 17 y w: uniform la media es: 0.4748810009519924\n",
            "Para k: 18 y w: uniform la media es: 0.47954576363389095\n",
            "Para k: 19 y w: uniform la media es: 0.4748810009519923\n",
            "Para k: 20 y w: uniform la media es: 0.48656330749354\n",
            "Para k: 21 y w: uniform la media es: 0.476077791377669\n",
            "Para k: 22 y w: uniform la media es: 0.4749082007343941\n",
            "Para k: 23 y w: uniform la media es: 0.4807425540595675\n",
            "Para k: 24 y w: uniform la media es: 0.4655446756425949\n",
            "Para k: 25 y w: uniform la media es: 0.4749150006799946\n",
            "Para k: 26 y w: uniform la media es: 0.4667278661770705\n",
            "Para k: 27 y w: uniform la media es: 0.46789065687474507\n",
            "Para k: 28 y w: uniform la media es: 0.47137902896776823\n",
            "Para k: 29 y w: uniform la media es: 0.47374541003671966\n",
            "Para k: 30 y w: uniform la media es: 0.47020943832449336\n",
            "Para k: 1 y w: distance la media es: 0.488875288997688\n",
            "Para k: 2 y w: distance la media es: 0.488875288997688\n",
            "Para k: 3 y w: distance la media es: 0.488875288997688\n",
            "Para k: 4 y w: distance la media es: 0.49007207942336456\n",
            "Para k: 5 y w: distance la media es: 0.4923772609819122\n",
            "Para k: 6 y w: distance la media es: 0.5098667210662315\n",
            "Para k: 7 y w: distance la media es: 0.5215830273357813\n",
            "Para k: 8 y w: distance la media es: 0.5192370461036313\n",
            "Para k: 9 y w: distance la media es: 0.5180538555691555\n",
            "Para k: 10 y w: distance la media es: 0.5250713994288047\n",
            "Para k: 11 y w: distance la media es: 0.5215898272813817\n",
            "Para k: 12 y w: distance la media es: 0.5227526179790563\n",
            "Para k: 13 y w: distance la media es: 0.5262613899088807\n",
            "Para k: 14 y w: distance la media es: 0.5285801713586291\n",
            "Para k: 15 y w: distance la media es: 0.5250849993200054\n",
            "Para k: 16 y w: distance la media es: 0.5297293621651027\n",
            "Para k: 17 y w: distance la media es: 0.5297361621107031\n",
            "Para k: 18 y w: distance la media es: 0.5250509995920034\n",
            "Para k: 19 y w: distance la media es: 0.5320889432884537\n",
            "Para k: 20 y w: distance la media es: 0.5367401060791513\n",
            "Para k: 21 y w: distance la media es: 0.534421324629403\n",
            "Para k: 22 y w: distance la media es: 0.5390792873657011\n",
            "Para k: 23 y w: distance la media es: 0.5413980688154496\n",
            "Para k: 24 y w: distance la media es: 0.540235278117775\n",
            "Para k: 25 y w: distance la media es: 0.5402420780633754\n",
            "Para k: 26 y w: distance la media es: 0.5378960968312254\n",
            "Para k: 27 y w: distance la media es: 0.5355501155990752\n",
            "Para k: 28 y w: distance la media es: 0.5437236502107983\n",
            "Para k: 29 y w: distance la media es: 0.5437100503195974\n",
            "Para k: 30 y w: distance la media es: 0.5460628314973481\n"
          ]
        }
      ]
    },
    {
      "cell_type": "code",
      "source": [
        "\n",
        "for w in ['uniform','distance']:\n",
        "  for k in range(1,31):\n",
        "    model_opti = KNeighborsClassifier(k, weights=w)\n",
        "    media_cruzada = validacion_cruzada_cl(model_opti,x_train,y_train,kf)\n",
        "    if media_cruzada > 0.54:\n",
        "      print(\"Para k: {k} y w: {w} la media es: {m}\".format(k=k,w=w,m=media_cruzada))\n",
        "#Tras comprobar que la media ronda entre 0.45 de minima y 0.54 de maxima, con el if encuentro los mas optimos, en este caso para k = 30 y w = distance"
      ],
      "metadata": {
        "colab": {
          "base_uri": "https://localhost:8080/"
        },
        "id": "wOAUYJwSi-vB",
        "outputId": "241080ae-d2ce-4c55-b3b4-46d4c380fca4"
      },
      "execution_count": null,
      "outputs": [
        {
          "output_type": "stream",
          "name": "stdout",
          "text": [
            "Para k: 23 y w: distance la media es: 0.5413980688154496\n",
            "Para k: 24 y w: distance la media es: 0.540235278117775\n",
            "Para k: 25 y w: distance la media es: 0.5402420780633754\n",
            "Para k: 28 y w: distance la media es: 0.5437236502107983\n",
            "Para k: 29 y w: distance la media es: 0.5437100503195974\n",
            "Para k: 30 y w: distance la media es: 0.5460628314973481\n"
          ]
        }
      ]
    }
  ]
}