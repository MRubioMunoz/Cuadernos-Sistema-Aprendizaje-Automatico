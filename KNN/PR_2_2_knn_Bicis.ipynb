{
  "nbformat": 4,
  "nbformat_minor": 0,
  "metadata": {
    "colab": {
      "name": "PR_2_2_knn_Bicis.ipynb",
      "provenance": [],
      "collapsed_sections": []
    },
    "kernelspec": {
      "name": "python3",
      "display_name": "Python 3"
    },
    "language_info": {
      "name": "python"
    }
  },
  "cells": [
    {
      "cell_type": "code",
      "execution_count": null,
      "metadata": {
        "id": "smccXvmARYWp"
      },
      "outputs": [],
      "source": [
        "import pandas as pd\n",
        "import seaborn as sbn\n",
        "import numpy as np\n",
        "import matplotlib.pyplot as plt\n",
        "from sklearn.model_selection import TimeSeriesSplit\n",
        "from sklearn.neighbors import KNeighborsRegressor\n",
        "from sklearn.metrics import mean_squared_error,mean_absolute_error\n",
        "from sklearn.metrics import accuracy_score\n",
        "from sklearn.model_selection import KFold"
      ]
    },
    {
      "cell_type": "markdown",
      "source": [
        "Preprocesamiento\n"
      ],
      "metadata": {
        "id": "PATK8ICZSRIK"
      }
    },
    {
      "cell_type": "code",
      "source": [
        "bikes_full = pd.read_csv('/content/bikes.csv')\n",
        "bikes_full"
      ],
      "metadata": {
        "colab": {
          "base_uri": "https://localhost:8080/",
          "height": 424
        },
        "id": "2h89kIZLSIfK",
        "outputId": "f1e03fea-0cee-4a09-9164-1d955b1178f5"
      },
      "execution_count": null,
      "outputs": [
        {
          "output_type": "execute_result",
          "data": {
            "text/html": [
              "\n",
              "  <div id=\"df-693631f1-c39c-49be-8db1-56f1daf03eba\">\n",
              "    <div class=\"colab-df-container\">\n",
              "      <div>\n",
              "<style scoped>\n",
              "    .dataframe tbody tr th:only-of-type {\n",
              "        vertical-align: middle;\n",
              "    }\n",
              "\n",
              "    .dataframe tbody tr th {\n",
              "        vertical-align: top;\n",
              "    }\n",
              "\n",
              "    .dataframe thead th {\n",
              "        text-align: right;\n",
              "    }\n",
              "</style>\n",
              "<table border=\"1\" class=\"dataframe\">\n",
              "  <thead>\n",
              "    <tr style=\"text-align: right;\">\n",
              "      <th></th>\n",
              "      <th>date</th>\n",
              "      <th>temperature</th>\n",
              "      <th>humidity</th>\n",
              "      <th>windspeed</th>\n",
              "      <th>count</th>\n",
              "    </tr>\n",
              "  </thead>\n",
              "  <tbody>\n",
              "    <tr>\n",
              "      <th>0</th>\n",
              "      <td>2011-01-03</td>\n",
              "      <td>2.716070</td>\n",
              "      <td>45.715346</td>\n",
              "      <td>21.414957</td>\n",
              "      <td>120.000000</td>\n",
              "    </tr>\n",
              "    <tr>\n",
              "      <th>1</th>\n",
              "      <td>2011-01-04</td>\n",
              "      <td>2.896673</td>\n",
              "      <td>54.267219</td>\n",
              "      <td>15.136882</td>\n",
              "      <td>108.000000</td>\n",
              "    </tr>\n",
              "    <tr>\n",
              "      <th>2</th>\n",
              "      <td>2011-01-05</td>\n",
              "      <td>4.235654</td>\n",
              "      <td>45.697702</td>\n",
              "      <td>17.034578</td>\n",
              "      <td>82.000000</td>\n",
              "    </tr>\n",
              "    <tr>\n",
              "      <th>3</th>\n",
              "      <td>2011-01-06</td>\n",
              "      <td>3.112643</td>\n",
              "      <td>50.237349</td>\n",
              "      <td>10.091568</td>\n",
              "      <td>88.000000</td>\n",
              "    </tr>\n",
              "    <tr>\n",
              "      <th>4</th>\n",
              "      <td>2011-01-07</td>\n",
              "      <td>2.723918</td>\n",
              "      <td>49.144928</td>\n",
              "      <td>15.738204</td>\n",
              "      <td>148.000000</td>\n",
              "    </tr>\n",
              "    <tr>\n",
              "      <th>...</th>\n",
              "      <td>...</td>\n",
              "      <td>...</td>\n",
              "      <td>...</td>\n",
              "      <td>...</td>\n",
              "      <td>...</td>\n",
              "    </tr>\n",
              "    <tr>\n",
              "      <th>724</th>\n",
              "      <td>2012-12-27</td>\n",
              "      <td>5.587201</td>\n",
              "      <td>57.755931</td>\n",
              "      <td>28.678187</td>\n",
              "      <td>247.000000</td>\n",
              "    </tr>\n",
              "    <tr>\n",
              "      <th>725</th>\n",
              "      <td>2012-12-28</td>\n",
              "      <td>5.545775</td>\n",
              "      <td>54.242931</td>\n",
              "      <td>14.792709</td>\n",
              "      <td>644.000000</td>\n",
              "    </tr>\n",
              "    <tr>\n",
              "      <th>726</th>\n",
              "      <td>2012-12-29</td>\n",
              "      <td>4.924888</td>\n",
              "      <td>54.010283</td>\n",
              "      <td>14.777848</td>\n",
              "      <td>575.666667</td>\n",
              "    </tr>\n",
              "    <tr>\n",
              "      <th>727</th>\n",
              "      <td>2012-12-30</td>\n",
              "      <td>4.304001</td>\n",
              "      <td>53.777635</td>\n",
              "      <td>14.762987</td>\n",
              "      <td>507.333333</td>\n",
              "    </tr>\n",
              "    <tr>\n",
              "      <th>728</th>\n",
              "      <td>2012-12-31</td>\n",
              "      <td>3.683114</td>\n",
              "      <td>53.544987</td>\n",
              "      <td>14.748127</td>\n",
              "      <td>439.000000</td>\n",
              "    </tr>\n",
              "  </tbody>\n",
              "</table>\n",
              "<p>729 rows × 5 columns</p>\n",
              "</div>\n",
              "      <button class=\"colab-df-convert\" onclick=\"convertToInteractive('df-693631f1-c39c-49be-8db1-56f1daf03eba')\"\n",
              "              title=\"Convert this dataframe to an interactive table.\"\n",
              "              style=\"display:none;\">\n",
              "        \n",
              "  <svg xmlns=\"http://www.w3.org/2000/svg\" height=\"24px\"viewBox=\"0 0 24 24\"\n",
              "       width=\"24px\">\n",
              "    <path d=\"M0 0h24v24H0V0z\" fill=\"none\"/>\n",
              "    <path d=\"M18.56 5.44l.94 2.06.94-2.06 2.06-.94-2.06-.94-.94-2.06-.94 2.06-2.06.94zm-11 1L8.5 8.5l.94-2.06 2.06-.94-2.06-.94L8.5 2.5l-.94 2.06-2.06.94zm10 10l.94 2.06.94-2.06 2.06-.94-2.06-.94-.94-2.06-.94 2.06-2.06.94z\"/><path d=\"M17.41 7.96l-1.37-1.37c-.4-.4-.92-.59-1.43-.59-.52 0-1.04.2-1.43.59L10.3 9.45l-7.72 7.72c-.78.78-.78 2.05 0 2.83L4 21.41c.39.39.9.59 1.41.59.51 0 1.02-.2 1.41-.59l7.78-7.78 2.81-2.81c.8-.78.8-2.07 0-2.86zM5.41 20L4 18.59l7.72-7.72 1.47 1.35L5.41 20z\"/>\n",
              "  </svg>\n",
              "      </button>\n",
              "      \n",
              "  <style>\n",
              "    .colab-df-container {\n",
              "      display:flex;\n",
              "      flex-wrap:wrap;\n",
              "      gap: 12px;\n",
              "    }\n",
              "\n",
              "    .colab-df-convert {\n",
              "      background-color: #E8F0FE;\n",
              "      border: none;\n",
              "      border-radius: 50%;\n",
              "      cursor: pointer;\n",
              "      display: none;\n",
              "      fill: #1967D2;\n",
              "      height: 32px;\n",
              "      padding: 0 0 0 0;\n",
              "      width: 32px;\n",
              "    }\n",
              "\n",
              "    .colab-df-convert:hover {\n",
              "      background-color: #E2EBFA;\n",
              "      box-shadow: 0px 1px 2px rgba(60, 64, 67, 0.3), 0px 1px 3px 1px rgba(60, 64, 67, 0.15);\n",
              "      fill: #174EA6;\n",
              "    }\n",
              "\n",
              "    [theme=dark] .colab-df-convert {\n",
              "      background-color: #3B4455;\n",
              "      fill: #D2E3FC;\n",
              "    }\n",
              "\n",
              "    [theme=dark] .colab-df-convert:hover {\n",
              "      background-color: #434B5C;\n",
              "      box-shadow: 0px 1px 3px 1px rgba(0, 0, 0, 0.15);\n",
              "      filter: drop-shadow(0px 1px 2px rgba(0, 0, 0, 0.3));\n",
              "      fill: #FFFFFF;\n",
              "    }\n",
              "  </style>\n",
              "\n",
              "      <script>\n",
              "        const buttonEl =\n",
              "          document.querySelector('#df-693631f1-c39c-49be-8db1-56f1daf03eba button.colab-df-convert');\n",
              "        buttonEl.style.display =\n",
              "          google.colab.kernel.accessAllowed ? 'block' : 'none';\n",
              "\n",
              "        async function convertToInteractive(key) {\n",
              "          const element = document.querySelector('#df-693631f1-c39c-49be-8db1-56f1daf03eba');\n",
              "          const dataTable =\n",
              "            await google.colab.kernel.invokeFunction('convertToInteractive',\n",
              "                                                     [key], {});\n",
              "          if (!dataTable) return;\n",
              "\n",
              "          const docLinkHtml = 'Like what you see? Visit the ' +\n",
              "            '<a target=\"_blank\" href=https://colab.research.google.com/notebooks/data_table.ipynb>data table notebook</a>'\n",
              "            + ' to learn more about interactive tables.';\n",
              "          element.innerHTML = '';\n",
              "          dataTable['output_type'] = 'display_data';\n",
              "          await google.colab.output.renderOutput(dataTable, element);\n",
              "          const docLink = document.createElement('div');\n",
              "          docLink.innerHTML = docLinkHtml;\n",
              "          element.appendChild(docLink);\n",
              "        }\n",
              "      </script>\n",
              "    </div>\n",
              "  </div>\n",
              "  "
            ],
            "text/plain": [
              "           date  temperature   humidity  windspeed       count\n",
              "0    2011-01-03     2.716070  45.715346  21.414957  120.000000\n",
              "1    2011-01-04     2.896673  54.267219  15.136882  108.000000\n",
              "2    2011-01-05     4.235654  45.697702  17.034578   82.000000\n",
              "3    2011-01-06     3.112643  50.237349  10.091568   88.000000\n",
              "4    2011-01-07     2.723918  49.144928  15.738204  148.000000\n",
              "..          ...          ...        ...        ...         ...\n",
              "724  2012-12-27     5.587201  57.755931  28.678187  247.000000\n",
              "725  2012-12-28     5.545775  54.242931  14.792709  644.000000\n",
              "726  2012-12-29     4.924888  54.010283  14.777848  575.666667\n",
              "727  2012-12-30     4.304001  53.777635  14.762987  507.333333\n",
              "728  2012-12-31     3.683114  53.544987  14.748127  439.000000\n",
              "\n",
              "[729 rows x 5 columns]"
            ]
          },
          "metadata": {},
          "execution_count": 2
        }
      ]
    },
    {
      "cell_type": "code",
      "source": [
        "# Para el analisis estadistico no usaremos la fecha\n",
        "bikes = bikes_full.drop('date',axis = 1)\n",
        "bikes"
      ],
      "metadata": {
        "colab": {
          "base_uri": "https://localhost:8080/",
          "height": 424
        },
        "id": "ECZklV7X8SYm",
        "outputId": "e1af62c3-81f5-4cf9-f6b1-eead7267d081"
      },
      "execution_count": null,
      "outputs": [
        {
          "output_type": "execute_result",
          "data": {
            "text/html": [
              "\n",
              "  <div id=\"df-8948eeb5-de8f-4ef6-bb9b-58bdb8d123ac\">\n",
              "    <div class=\"colab-df-container\">\n",
              "      <div>\n",
              "<style scoped>\n",
              "    .dataframe tbody tr th:only-of-type {\n",
              "        vertical-align: middle;\n",
              "    }\n",
              "\n",
              "    .dataframe tbody tr th {\n",
              "        vertical-align: top;\n",
              "    }\n",
              "\n",
              "    .dataframe thead th {\n",
              "        text-align: right;\n",
              "    }\n",
              "</style>\n",
              "<table border=\"1\" class=\"dataframe\">\n",
              "  <thead>\n",
              "    <tr style=\"text-align: right;\">\n",
              "      <th></th>\n",
              "      <th>temperature</th>\n",
              "      <th>humidity</th>\n",
              "      <th>windspeed</th>\n",
              "      <th>count</th>\n",
              "    </tr>\n",
              "  </thead>\n",
              "  <tbody>\n",
              "    <tr>\n",
              "      <th>0</th>\n",
              "      <td>2.716070</td>\n",
              "      <td>45.715346</td>\n",
              "      <td>21.414957</td>\n",
              "      <td>120.000000</td>\n",
              "    </tr>\n",
              "    <tr>\n",
              "      <th>1</th>\n",
              "      <td>2.896673</td>\n",
              "      <td>54.267219</td>\n",
              "      <td>15.136882</td>\n",
              "      <td>108.000000</td>\n",
              "    </tr>\n",
              "    <tr>\n",
              "      <th>2</th>\n",
              "      <td>4.235654</td>\n",
              "      <td>45.697702</td>\n",
              "      <td>17.034578</td>\n",
              "      <td>82.000000</td>\n",
              "    </tr>\n",
              "    <tr>\n",
              "      <th>3</th>\n",
              "      <td>3.112643</td>\n",
              "      <td>50.237349</td>\n",
              "      <td>10.091568</td>\n",
              "      <td>88.000000</td>\n",
              "    </tr>\n",
              "    <tr>\n",
              "      <th>4</th>\n",
              "      <td>2.723918</td>\n",
              "      <td>49.144928</td>\n",
              "      <td>15.738204</td>\n",
              "      <td>148.000000</td>\n",
              "    </tr>\n",
              "    <tr>\n",
              "      <th>...</th>\n",
              "      <td>...</td>\n",
              "      <td>...</td>\n",
              "      <td>...</td>\n",
              "      <td>...</td>\n",
              "    </tr>\n",
              "    <tr>\n",
              "      <th>724</th>\n",
              "      <td>5.587201</td>\n",
              "      <td>57.755931</td>\n",
              "      <td>28.678187</td>\n",
              "      <td>247.000000</td>\n",
              "    </tr>\n",
              "    <tr>\n",
              "      <th>725</th>\n",
              "      <td>5.545775</td>\n",
              "      <td>54.242931</td>\n",
              "      <td>14.792709</td>\n",
              "      <td>644.000000</td>\n",
              "    </tr>\n",
              "    <tr>\n",
              "      <th>726</th>\n",
              "      <td>4.924888</td>\n",
              "      <td>54.010283</td>\n",
              "      <td>14.777848</td>\n",
              "      <td>575.666667</td>\n",
              "    </tr>\n",
              "    <tr>\n",
              "      <th>727</th>\n",
              "      <td>4.304001</td>\n",
              "      <td>53.777635</td>\n",
              "      <td>14.762987</td>\n",
              "      <td>507.333333</td>\n",
              "    </tr>\n",
              "    <tr>\n",
              "      <th>728</th>\n",
              "      <td>3.683114</td>\n",
              "      <td>53.544987</td>\n",
              "      <td>14.748127</td>\n",
              "      <td>439.000000</td>\n",
              "    </tr>\n",
              "  </tbody>\n",
              "</table>\n",
              "<p>729 rows × 4 columns</p>\n",
              "</div>\n",
              "      <button class=\"colab-df-convert\" onclick=\"convertToInteractive('df-8948eeb5-de8f-4ef6-bb9b-58bdb8d123ac')\"\n",
              "              title=\"Convert this dataframe to an interactive table.\"\n",
              "              style=\"display:none;\">\n",
              "        \n",
              "  <svg xmlns=\"http://www.w3.org/2000/svg\" height=\"24px\"viewBox=\"0 0 24 24\"\n",
              "       width=\"24px\">\n",
              "    <path d=\"M0 0h24v24H0V0z\" fill=\"none\"/>\n",
              "    <path d=\"M18.56 5.44l.94 2.06.94-2.06 2.06-.94-2.06-.94-.94-2.06-.94 2.06-2.06.94zm-11 1L8.5 8.5l.94-2.06 2.06-.94-2.06-.94L8.5 2.5l-.94 2.06-2.06.94zm10 10l.94 2.06.94-2.06 2.06-.94-2.06-.94-.94-2.06-.94 2.06-2.06.94z\"/><path d=\"M17.41 7.96l-1.37-1.37c-.4-.4-.92-.59-1.43-.59-.52 0-1.04.2-1.43.59L10.3 9.45l-7.72 7.72c-.78.78-.78 2.05 0 2.83L4 21.41c.39.39.9.59 1.41.59.51 0 1.02-.2 1.41-.59l7.78-7.78 2.81-2.81c.8-.78.8-2.07 0-2.86zM5.41 20L4 18.59l7.72-7.72 1.47 1.35L5.41 20z\"/>\n",
              "  </svg>\n",
              "      </button>\n",
              "      \n",
              "  <style>\n",
              "    .colab-df-container {\n",
              "      display:flex;\n",
              "      flex-wrap:wrap;\n",
              "      gap: 12px;\n",
              "    }\n",
              "\n",
              "    .colab-df-convert {\n",
              "      background-color: #E8F0FE;\n",
              "      border: none;\n",
              "      border-radius: 50%;\n",
              "      cursor: pointer;\n",
              "      display: none;\n",
              "      fill: #1967D2;\n",
              "      height: 32px;\n",
              "      padding: 0 0 0 0;\n",
              "      width: 32px;\n",
              "    }\n",
              "\n",
              "    .colab-df-convert:hover {\n",
              "      background-color: #E2EBFA;\n",
              "      box-shadow: 0px 1px 2px rgba(60, 64, 67, 0.3), 0px 1px 3px 1px rgba(60, 64, 67, 0.15);\n",
              "      fill: #174EA6;\n",
              "    }\n",
              "\n",
              "    [theme=dark] .colab-df-convert {\n",
              "      background-color: #3B4455;\n",
              "      fill: #D2E3FC;\n",
              "    }\n",
              "\n",
              "    [theme=dark] .colab-df-convert:hover {\n",
              "      background-color: #434B5C;\n",
              "      box-shadow: 0px 1px 3px 1px rgba(0, 0, 0, 0.15);\n",
              "      filter: drop-shadow(0px 1px 2px rgba(0, 0, 0, 0.3));\n",
              "      fill: #FFFFFF;\n",
              "    }\n",
              "  </style>\n",
              "\n",
              "      <script>\n",
              "        const buttonEl =\n",
              "          document.querySelector('#df-8948eeb5-de8f-4ef6-bb9b-58bdb8d123ac button.colab-df-convert');\n",
              "        buttonEl.style.display =\n",
              "          google.colab.kernel.accessAllowed ? 'block' : 'none';\n",
              "\n",
              "        async function convertToInteractive(key) {\n",
              "          const element = document.querySelector('#df-8948eeb5-de8f-4ef6-bb9b-58bdb8d123ac');\n",
              "          const dataTable =\n",
              "            await google.colab.kernel.invokeFunction('convertToInteractive',\n",
              "                                                     [key], {});\n",
              "          if (!dataTable) return;\n",
              "\n",
              "          const docLinkHtml = 'Like what you see? Visit the ' +\n",
              "            '<a target=\"_blank\" href=https://colab.research.google.com/notebooks/data_table.ipynb>data table notebook</a>'\n",
              "            + ' to learn more about interactive tables.';\n",
              "          element.innerHTML = '';\n",
              "          dataTable['output_type'] = 'display_data';\n",
              "          await google.colab.output.renderOutput(dataTable, element);\n",
              "          const docLink = document.createElement('div');\n",
              "          docLink.innerHTML = docLinkHtml;\n",
              "          element.appendChild(docLink);\n",
              "        }\n",
              "      </script>\n",
              "    </div>\n",
              "  </div>\n",
              "  "
            ],
            "text/plain": [
              "     temperature   humidity  windspeed       count\n",
              "0       2.716070  45.715346  21.414957  120.000000\n",
              "1       2.896673  54.267219  15.136882  108.000000\n",
              "2       4.235654  45.697702  17.034578   82.000000\n",
              "3       3.112643  50.237349  10.091568   88.000000\n",
              "4       2.723918  49.144928  15.738204  148.000000\n",
              "..           ...        ...        ...         ...\n",
              "724     5.587201  57.755931  28.678187  247.000000\n",
              "725     5.545775  54.242931  14.792709  644.000000\n",
              "726     4.924888  54.010283  14.777848  575.666667\n",
              "727     4.304001  53.777635  14.762987  507.333333\n",
              "728     3.683114  53.544987  14.748127  439.000000\n",
              "\n",
              "[729 rows x 4 columns]"
            ]
          },
          "metadata": {},
          "execution_count": 19
        }
      ]
    },
    {
      "cell_type": "code",
      "source": [
        "# Mostrar parámetros estadísticos de los datos (media, desviación típica, cuartiles, etc.)\n",
        "media = np.mean(bikes)\n",
        "media"
      ],
      "metadata": {
        "colab": {
          "base_uri": "https://localhost:8080/"
        },
        "id": "BWxgWauCSOk6",
        "outputId": "f41c1f9f-b1cf-490d-e416-1c8f4fe56298"
      },
      "execution_count": null,
      "outputs": [
        {
          "output_type": "execute_result",
          "data": {
            "text/plain": [
              "temperature     17.762024\n",
              "humidity        56.514591\n",
              "windspeed       17.241418\n",
              "count          622.818930\n",
              "dtype: float64"
            ]
          },
          "metadata": {},
          "execution_count": 6
        }
      ]
    },
    {
      "cell_type": "code",
      "source": [
        "mediana = np.median(bikes)\n",
        "mediana"
      ],
      "metadata": {
        "colab": {
          "base_uri": "https://localhost:8080/"
        },
        "id": "GGDPxhgdYcLZ",
        "outputId": "fe2b0be3-6d81-4c86-d7fd-d7e07ceb904f"
      },
      "execution_count": null,
      "outputs": [
        {
          "output_type": "execute_result",
          "data": {
            "text/plain": [
              "33.568495090897216"
            ]
          },
          "metadata": {},
          "execution_count": 11
        }
      ]
    },
    {
      "cell_type": "code",
      "source": [
        "varianza = np.var(bikes)\n",
        "varianza"
      ],
      "metadata": {
        "colab": {
          "base_uri": "https://localhost:8080/"
        },
        "id": "jSvUNXmvYnu0",
        "outputId": "124d70cb-f282-4add-a1f7-ccae5a936bb6"
      },
      "execution_count": null,
      "outputs": [
        {
          "output_type": "execute_result",
          "data": {
            "text/plain": [
              "temperature        79.480651\n",
              "humidity           53.929746\n",
              "windspeed          27.235555\n",
              "count          147222.110275\n",
              "dtype: float64"
            ]
          },
          "metadata": {},
          "execution_count": 12
        }
      ]
    },
    {
      "cell_type": "code",
      "source": [
        "desviacion_tipica = np.std(bikes)\n",
        "desviacion_tipica"
      ],
      "metadata": {
        "colab": {
          "base_uri": "https://localhost:8080/"
        },
        "id": "B1SDy3V0Ysuy",
        "outputId": "37632846-10e3-42df-9da4-6a78591c78fa"
      },
      "execution_count": null,
      "outputs": [
        {
          "output_type": "execute_result",
          "data": {
            "text/plain": [
              "temperature      8.915192\n",
              "humidity         7.343687\n",
              "windspeed        5.218769\n",
              "count          383.695335\n",
              "dtype: float64"
            ]
          },
          "metadata": {},
          "execution_count": 13
        }
      ]
    },
    {
      "cell_type": "code",
      "source": [
        "minimo = bikes.min()\n",
        "minimo"
      ],
      "metadata": {
        "colab": {
          "base_uri": "https://localhost:8080/"
        },
        "id": "Qm8nHPDMZaJ3",
        "outputId": "2733249e-17eb-4a3a-ed00-08486451d876"
      },
      "execution_count": null,
      "outputs": [
        {
          "output_type": "execute_result",
          "data": {
            "text/plain": [
              "temperature    -2.2\n",
              "humidity       21.3\n",
              "windspeed       5.3\n",
              "count           2.0\n",
              "dtype: float64"
            ]
          },
          "metadata": {},
          "execution_count": 14
        }
      ]
    },
    {
      "cell_type": "code",
      "source": [
        "maximo = bikes.max()\n",
        "maximo"
      ],
      "metadata": {
        "colab": {
          "base_uri": "https://localhost:8080/"
        },
        "id": "Sy8EQpCtZcnD",
        "outputId": "193b5f31-0f1d-4383-960f-ef84a50b9569"
      },
      "execution_count": null,
      "outputs": [
        {
          "output_type": "execute_result",
          "data": {
            "text/plain": [
              "temperature      35.1\n",
              "humidity         75.6\n",
              "windspeed        35.2\n",
              "count          1820.0\n",
              "dtype: float64"
            ]
          },
          "metadata": {},
          "execution_count": 15
        }
      ]
    },
    {
      "cell_type": "code",
      "source": [
        "Q1 = np.quantile(bikes,0.25)\n",
        "Q1"
      ],
      "metadata": {
        "colab": {
          "base_uri": "https://localhost:8080/"
        },
        "id": "4I4o1XQKZfbZ",
        "outputId": "5593c18e-cd22-40fb-cee7-7eb20f223f6f"
      },
      "execution_count": null,
      "outputs": [
        {
          "output_type": "execute_result",
          "data": {
            "text/plain": [
              "16.996307701789497"
            ]
          },
          "metadata": {},
          "execution_count": 16
        }
      ]
    },
    {
      "cell_type": "code",
      "source": [
        "Q3 = np.quantile(bikes,0.75)\n",
        "Q3"
      ],
      "metadata": {
        "colab": {
          "base_uri": "https://localhost:8080/"
        },
        "id": "gaqS6fCqZh_f",
        "outputId": "f15e0bdc-640f-465a-ca9f-885b2a66b7de"
      },
      "execution_count": null,
      "outputs": [
        {
          "output_type": "execute_result",
          "data": {
            "text/plain": [
              "69.98156922879178"
            ]
          },
          "metadata": {},
          "execution_count": 17
        }
      ]
    },
    {
      "cell_type": "code",
      "source": [
        "# Mostrar un mapa de calor que indique la correlación entre variables\n",
        "sbn.set(rc = {'figure.figsize':(45,15)})\n",
        "sbn.heatmap(bikes.corr(), square=True, annot=True)"
      ],
      "metadata": {
        "colab": {
          "base_uri": "https://localhost:8080/",
          "height": 887
        },
        "id": "qKKnMnrrZkyE",
        "outputId": "c7a12484-d4b0-4505-8d46-a4900ee98205"
      },
      "execution_count": null,
      "outputs": [
        {
          "output_type": "execute_result",
          "data": {
            "text/plain": [
              "<matplotlib.axes._subplots.AxesSubplot at 0x7fdd3ad76e10>"
            ]
          },
          "metadata": {},
          "execution_count": 19
        },
        {
          "output_type": "display_data",
          "data": {
            "image/png": "[encoded data removed]",
            "text/plain": [
              "<Figure size 3240x1080 with 2 Axes>"
            ]
          },
          "metadata": {}
        }
      ]
    },
    {
      "cell_type": "code",
      "source": [
        "# Seleccionar las características a tener en cuenta en el estudio\n",
        "#Se implementa en la parte de optimizacion"
      ],
      "metadata": {
        "id": "_GJgLBrgaAo3"
      },
      "execution_count": null,
      "outputs": []
    },
    {
      "cell_type": "code",
      "source": [
        "# Separar datos entre entrenamiento y prueba (usando un 75% para entrenamiento y 25% para test)\n",
        "train = bikes.iloc[0:501,0:]\n",
        "test = bikes.iloc[501:729,0:]\n",
        "train"
      ],
      "metadata": {
        "id": "IYaxxsoHaLYU",
        "colab": {
          "base_uri": "https://localhost:8080/",
          "height": 424
        },
        "outputId": "fd2e394f-7d7a-4901-cfcd-625339bfd2ba"
      },
      "execution_count": null,
      "outputs": [
        {
          "output_type": "execute_result",
          "data": {
            "text/html": [
              "\n",
              "  <div id=\"df-78d18031-00d2-49c8-8770-54d0cc0baff7\">\n",
              "    <div class=\"colab-df-container\">\n",
              "      <div>\n",
              "<style scoped>\n",
              "    .dataframe tbody tr th:only-of-type {\n",
              "        vertical-align: middle;\n",
              "    }\n",
              "\n",
              "    .dataframe tbody tr th {\n",
              "        vertical-align: top;\n",
              "    }\n",
              "\n",
              "    .dataframe thead th {\n",
              "        text-align: right;\n",
              "    }\n",
              "</style>\n",
              "<table border=\"1\" class=\"dataframe\">\n",
              "  <thead>\n",
              "    <tr style=\"text-align: right;\">\n",
              "      <th></th>\n",
              "      <th>temperature</th>\n",
              "      <th>humidity</th>\n",
              "      <th>windspeed</th>\n",
              "      <th>count</th>\n",
              "    </tr>\n",
              "  </thead>\n",
              "  <tbody>\n",
              "    <tr>\n",
              "      <th>0</th>\n",
              "      <td>2.716070</td>\n",
              "      <td>45.715346</td>\n",
              "      <td>21.414957</td>\n",
              "      <td>120.000000</td>\n",
              "    </tr>\n",
              "    <tr>\n",
              "      <th>1</th>\n",
              "      <td>2.896673</td>\n",
              "      <td>54.267219</td>\n",
              "      <td>15.136882</td>\n",
              "      <td>108.000000</td>\n",
              "    </tr>\n",
              "    <tr>\n",
              "      <th>2</th>\n",
              "      <td>4.235654</td>\n",
              "      <td>45.697702</td>\n",
              "      <td>17.034578</td>\n",
              "      <td>82.000000</td>\n",
              "    </tr>\n",
              "    <tr>\n",
              "      <th>3</th>\n",
              "      <td>3.112643</td>\n",
              "      <td>50.237349</td>\n",
              "      <td>10.091568</td>\n",
              "      <td>88.000000</td>\n",
              "    </tr>\n",
              "    <tr>\n",
              "      <th>4</th>\n",
              "      <td>2.723918</td>\n",
              "      <td>49.144928</td>\n",
              "      <td>15.738204</td>\n",
              "      <td>148.000000</td>\n",
              "    </tr>\n",
              "    <tr>\n",
              "      <th>...</th>\n",
              "      <td>...</td>\n",
              "      <td>...</td>\n",
              "      <td>...</td>\n",
              "      <td>...</td>\n",
              "    </tr>\n",
              "    <tr>\n",
              "      <th>496</th>\n",
              "      <td>20.778205</td>\n",
              "      <td>57.399180</td>\n",
              "      <td>19.450828</td>\n",
              "      <td>667.666667</td>\n",
              "    </tr>\n",
              "    <tr>\n",
              "      <th>497</th>\n",
              "      <td>21.440484</td>\n",
              "      <td>65.386742</td>\n",
              "      <td>18.874352</td>\n",
              "      <td>342.000000</td>\n",
              "    </tr>\n",
              "    <tr>\n",
              "      <th>498</th>\n",
              "      <td>23.344571</td>\n",
              "      <td>65.665920</td>\n",
              "      <td>14.216424</td>\n",
              "      <td>625.000000</td>\n",
              "    </tr>\n",
              "    <tr>\n",
              "      <th>499</th>\n",
              "      <td>24.586345</td>\n",
              "      <td>60.268528</td>\n",
              "      <td>12.441703</td>\n",
              "      <td>991.000000</td>\n",
              "    </tr>\n",
              "    <tr>\n",
              "      <th>500</th>\n",
              "      <td>22.433904</td>\n",
              "      <td>50.334447</td>\n",
              "      <td>20.071504</td>\n",
              "      <td>1242.000000</td>\n",
              "    </tr>\n",
              "  </tbody>\n",
              "</table>\n",
              "<p>501 rows × 4 columns</p>\n",
              "</div>\n",
              "      <button class=\"colab-df-convert\" onclick=\"convertToInteractive('df-78d18031-00d2-49c8-8770-54d0cc0baff7')\"\n",
              "              title=\"Convert this dataframe to an interactive table.\"\n",
              "              style=\"display:none;\">\n",
              "        \n",
              "  <svg xmlns=\"http://www.w3.org/2000/svg\" height=\"24px\"viewBox=\"0 0 24 24\"\n",
              "       width=\"24px\">\n",
              "    <path d=\"M0 0h24v24H0V0z\" fill=\"none\"/>\n",
              "    <path d=\"M18.56 5.44l.94 2.06.94-2.06 2.06-.94-2.06-.94-.94-2.06-.94 2.06-2.06.94zm-11 1L8.5 8.5l.94-2.06 2.06-.94-2.06-.94L8.5 2.5l-.94 2.06-2.06.94zm10 10l.94 2.06.94-2.06 2.06-.94-2.06-.94-.94-2.06-.94 2.06-2.06.94z\"/><path d=\"M17.41 7.96l-1.37-1.37c-.4-.4-.92-.59-1.43-.59-.52 0-1.04.2-1.43.59L10.3 9.45l-7.72 7.72c-.78.78-.78 2.05 0 2.83L4 21.41c.39.39.9.59 1.41.59.51 0 1.02-.2 1.41-.59l7.78-7.78 2.81-2.81c.8-.78.8-2.07 0-2.86zM5.41 20L4 18.59l7.72-7.72 1.47 1.35L5.41 20z\"/>\n",
              "  </svg>\n",
              "      </button>\n",
              "      \n",
              "  <style>\n",
              "    .colab-df-container {\n",
              "      display:flex;\n",
              "      flex-wrap:wrap;\n",
              "      gap: 12px;\n",
              "    }\n",
              "\n",
              "    .colab-df-convert {\n",
              "      background-color: #E8F0FE;\n",
              "      border: none;\n",
              "      border-radius: 50%;\n",
              "      cursor: pointer;\n",
              "      display: none;\n",
              "      fill: #1967D2;\n",
              "      height: 32px;\n",
              "      padding: 0 0 0 0;\n",
              "      width: 32px;\n",
              "    }\n",
              "\n",
              "    .colab-df-convert:hover {\n",
              "      background-color: #E2EBFA;\n",
              "      box-shadow: 0px 1px 2px rgba(60, 64, 67, 0.3), 0px 1px 3px 1px rgba(60, 64, 67, 0.15);\n",
              "      fill: #174EA6;\n",
              "    }\n",
              "\n",
              "    [theme=dark] .colab-df-convert {\n",
              "      background-color: #3B4455;\n",
              "      fill: #D2E3FC;\n",
              "    }\n",
              "\n",
              "    [theme=dark] .colab-df-convert:hover {\n",
              "      background-color: #434B5C;\n",
              "      box-shadow: 0px 1px 3px 1px rgba(0, 0, 0, 0.15);\n",
              "      filter: drop-shadow(0px 1px 2px rgba(0, 0, 0, 0.3));\n",
              "      fill: #FFFFFF;\n",
              "    }\n",
              "  </style>\n",
              "\n",
              "      <script>\n",
              "        const buttonEl =\n",
              "          document.querySelector('#df-78d18031-00d2-49c8-8770-54d0cc0baff7 button.colab-df-convert');\n",
              "        buttonEl.style.display =\n",
              "          google.colab.kernel.accessAllowed ? 'block' : 'none';\n",
              "\n",
              "        async function convertToInteractive(key) {\n",
              "          const element = document.querySelector('#df-78d18031-00d2-49c8-8770-54d0cc0baff7');\n",
              "          const dataTable =\n",
              "            await google.colab.kernel.invokeFunction('convertToInteractive',\n",
              "                                                     [key], {});\n",
              "          if (!dataTable) return;\n",
              "\n",
              "          const docLinkHtml = 'Like what you see? Visit the ' +\n",
              "            '<a target=\"_blank\" href=https://colab.research.google.com/notebooks/data_table.ipynb>data table notebook</a>'\n",
              "            + ' to learn more about interactive tables.';\n",
              "          element.innerHTML = '';\n",
              "          dataTable['output_type'] = 'display_data';\n",
              "          await google.colab.output.renderOutput(dataTable, element);\n",
              "          const docLink = document.createElement('div');\n",
              "          docLink.innerHTML = docLinkHtml;\n",
              "          element.appendChild(docLink);\n",
              "        }\n",
              "      </script>\n",
              "    </div>\n",
              "  </div>\n",
              "  "
            ],
            "text/plain": [
              "     temperature   humidity  windspeed        count\n",
              "0       2.716070  45.715346  21.414957   120.000000\n",
              "1       2.896673  54.267219  15.136882   108.000000\n",
              "2       4.235654  45.697702  17.034578    82.000000\n",
              "3       3.112643  50.237349  10.091568    88.000000\n",
              "4       2.723918  49.144928  15.738204   148.000000\n",
              "..           ...        ...        ...          ...\n",
              "496    20.778205  57.399180  19.450828   667.666667\n",
              "497    21.440484  65.386742  18.874352   342.000000\n",
              "498    23.344571  65.665920  14.216424   625.000000\n",
              "499    24.586345  60.268528  12.441703   991.000000\n",
              "500    22.433904  50.334447  20.071504  1242.000000\n",
              "\n",
              "[501 rows x 4 columns]"
            ]
          },
          "metadata": {},
          "execution_count": 20
        }
      ]
    },
    {
      "cell_type": "code",
      "source": [
        "test"
      ],
      "metadata": {
        "colab": {
          "base_uri": "https://localhost:8080/",
          "height": 424
        },
        "id": "n43g7SvcB7zb",
        "outputId": "06743867-2e30-454e-dbb5-e52acae5f447"
      },
      "execution_count": null,
      "outputs": [
        {
          "output_type": "execute_result",
          "data": {
            "text/html": [
              "\n",
              "  <div id=\"df-cb0adf3c-68ba-46c9-bfcc-9371cadba5e7\">\n",
              "    <div class=\"colab-df-container\">\n",
              "      <div>\n",
              "<style scoped>\n",
              "    .dataframe tbody tr th:only-of-type {\n",
              "        vertical-align: middle;\n",
              "    }\n",
              "\n",
              "    .dataframe tbody tr th {\n",
              "        vertical-align: top;\n",
              "    }\n",
              "\n",
              "    .dataframe thead th {\n",
              "        text-align: right;\n",
              "    }\n",
              "</style>\n",
              "<table border=\"1\" class=\"dataframe\">\n",
              "  <thead>\n",
              "    <tr style=\"text-align: right;\">\n",
              "      <th></th>\n",
              "      <th>temperature</th>\n",
              "      <th>humidity</th>\n",
              "      <th>windspeed</th>\n",
              "      <th>count</th>\n",
              "    </tr>\n",
              "  </thead>\n",
              "  <tbody>\n",
              "    <tr>\n",
              "      <th>501</th>\n",
              "      <td>20.985200</td>\n",
              "      <td>50.520547</td>\n",
              "      <td>13.462096</td>\n",
              "      <td>1521.000000</td>\n",
              "    </tr>\n",
              "    <tr>\n",
              "      <th>502</th>\n",
              "      <td>21.550886</td>\n",
              "      <td>55.879208</td>\n",
              "      <td>15.753897</td>\n",
              "      <td>1224.000000</td>\n",
              "    </tr>\n",
              "    <tr>\n",
              "      <th>503</th>\n",
              "      <td>22.116572</td>\n",
              "      <td>61.237869</td>\n",
              "      <td>18.045698</td>\n",
              "      <td>927.000000</td>\n",
              "    </tr>\n",
              "    <tr>\n",
              "      <th>504</th>\n",
              "      <td>22.682258</td>\n",
              "      <td>66.596530</td>\n",
              "      <td>20.337498</td>\n",
              "      <td>630.000000</td>\n",
              "    </tr>\n",
              "    <tr>\n",
              "      <th>505</th>\n",
              "      <td>23.510124</td>\n",
              "      <td>64.060650</td>\n",
              "      <td>12.131769</td>\n",
              "      <td>819.000000</td>\n",
              "    </tr>\n",
              "    <tr>\n",
              "      <th>...</th>\n",
              "      <td>...</td>\n",
              "      <td>...</td>\n",
              "      <td>...</td>\n",
              "      <td>...</td>\n",
              "    </tr>\n",
              "    <tr>\n",
              "      <th>724</th>\n",
              "      <td>5.587201</td>\n",
              "      <td>57.755931</td>\n",
              "      <td>28.678187</td>\n",
              "      <td>247.000000</td>\n",
              "    </tr>\n",
              "    <tr>\n",
              "      <th>725</th>\n",
              "      <td>5.545775</td>\n",
              "      <td>54.242931</td>\n",
              "      <td>14.792709</td>\n",
              "      <td>644.000000</td>\n",
              "    </tr>\n",
              "    <tr>\n",
              "      <th>726</th>\n",
              "      <td>4.924888</td>\n",
              "      <td>54.010283</td>\n",
              "      <td>14.777848</td>\n",
              "      <td>575.666667</td>\n",
              "    </tr>\n",
              "    <tr>\n",
              "      <th>727</th>\n",
              "      <td>4.304001</td>\n",
              "      <td>53.777635</td>\n",
              "      <td>14.762987</td>\n",
              "      <td>507.333333</td>\n",
              "    </tr>\n",
              "    <tr>\n",
              "      <th>728</th>\n",
              "      <td>3.683114</td>\n",
              "      <td>53.544987</td>\n",
              "      <td>14.748127</td>\n",
              "      <td>439.000000</td>\n",
              "    </tr>\n",
              "  </tbody>\n",
              "</table>\n",
              "<p>228 rows × 4 columns</p>\n",
              "</div>\n",
              "      <button class=\"colab-df-convert\" onclick=\"convertToInteractive('df-cb0adf3c-68ba-46c9-bfcc-9371cadba5e7')\"\n",
              "              title=\"Convert this dataframe to an interactive table.\"\n",
              "              style=\"display:none;\">\n",
              "        \n",
              "  <svg xmlns=\"http://www.w3.org/2000/svg\" height=\"24px\"viewBox=\"0 0 24 24\"\n",
              "       width=\"24px\">\n",
              "    <path d=\"M0 0h24v24H0V0z\" fill=\"none\"/>\n",
              "    <path d=\"M18.56 5.44l.94 2.06.94-2.06 2.06-.94-2.06-.94-.94-2.06-.94 2.06-2.06.94zm-11 1L8.5 8.5l.94-2.06 2.06-.94-2.06-.94L8.5 2.5l-.94 2.06-2.06.94zm10 10l.94 2.06.94-2.06 2.06-.94-2.06-.94-.94-2.06-.94 2.06-2.06.94z\"/><path d=\"M17.41 7.96l-1.37-1.37c-.4-.4-.92-.59-1.43-.59-.52 0-1.04.2-1.43.59L10.3 9.45l-7.72 7.72c-.78.78-.78 2.05 0 2.83L4 21.41c.39.39.9.59 1.41.59.51 0 1.02-.2 1.41-.59l7.78-7.78 2.81-2.81c.8-.78.8-2.07 0-2.86zM5.41 20L4 18.59l7.72-7.72 1.47 1.35L5.41 20z\"/>\n",
              "  </svg>\n",
              "      </button>\n",
              "      \n",
              "  <style>\n",
              "    .colab-df-container {\n",
              "      display:flex;\n",
              "      flex-wrap:wrap;\n",
              "      gap: 12px;\n",
              "    }\n",
              "\n",
              "    .colab-df-convert {\n",
              "      background-color: #E8F0FE;\n",
              "      border: none;\n",
              "      border-radius: 50%;\n",
              "      cursor: pointer;\n",
              "      display: none;\n",
              "      fill: #1967D2;\n",
              "      height: 32px;\n",
              "      padding: 0 0 0 0;\n",
              "      width: 32px;\n",
              "    }\n",
              "\n",
              "    .colab-df-convert:hover {\n",
              "      background-color: #E2EBFA;\n",
              "      box-shadow: 0px 1px 2px rgba(60, 64, 67, 0.3), 0px 1px 3px 1px rgba(60, 64, 67, 0.15);\n",
              "      fill: #174EA6;\n",
              "    }\n",
              "\n",
              "    [theme=dark] .colab-df-convert {\n",
              "      background-color: #3B4455;\n",
              "      fill: #D2E3FC;\n",
              "    }\n",
              "\n",
              "    [theme=dark] .colab-df-convert:hover {\n",
              "      background-color: #434B5C;\n",
              "      box-shadow: 0px 1px 3px 1px rgba(0, 0, 0, 0.15);\n",
              "      filter: drop-shadow(0px 1px 2px rgba(0, 0, 0, 0.3));\n",
              "      fill: #FFFFFF;\n",
              "    }\n",
              "  </style>\n",
              "\n",
              "      <script>\n",
              "        const buttonEl =\n",
              "          document.querySelector('#df-cb0adf3c-68ba-46c9-bfcc-9371cadba5e7 button.colab-df-convert');\n",
              "        buttonEl.style.display =\n",
              "          google.colab.kernel.accessAllowed ? 'block' : 'none';\n",
              "\n",
              "        async function convertToInteractive(key) {\n",
              "          const element = document.querySelector('#df-cb0adf3c-68ba-46c9-bfcc-9371cadba5e7');\n",
              "          const dataTable =\n",
              "            await google.colab.kernel.invokeFunction('convertToInteractive',\n",
              "                                                     [key], {});\n",
              "          if (!dataTable) return;\n",
              "\n",
              "          const docLinkHtml = 'Like what you see? Visit the ' +\n",
              "            '<a target=\"_blank\" href=https://colab.research.google.com/notebooks/data_table.ipynb>data table notebook</a>'\n",
              "            + ' to learn more about interactive tables.';\n",
              "          element.innerHTML = '';\n",
              "          dataTable['output_type'] = 'display_data';\n",
              "          await google.colab.output.renderOutput(dataTable, element);\n",
              "          const docLink = document.createElement('div');\n",
              "          docLink.innerHTML = docLinkHtml;\n",
              "          element.appendChild(docLink);\n",
              "        }\n",
              "      </script>\n",
              "    </div>\n",
              "  </div>\n",
              "  "
            ],
            "text/plain": [
              "     temperature   humidity  windspeed        count\n",
              "501    20.985200  50.520547  13.462096  1521.000000\n",
              "502    21.550886  55.879208  15.753897  1224.000000\n",
              "503    22.116572  61.237869  18.045698   927.000000\n",
              "504    22.682258  66.596530  20.337498   630.000000\n",
              "505    23.510124  64.060650  12.131769   819.000000\n",
              "..           ...        ...        ...          ...\n",
              "724     5.587201  57.755931  28.678187   247.000000\n",
              "725     5.545775  54.242931  14.792709   644.000000\n",
              "726     4.924888  54.010283  14.777848   575.666667\n",
              "727     4.304001  53.777635  14.762987   507.333333\n",
              "728     3.683114  53.544987  14.748127   439.000000\n",
              "\n",
              "[228 rows x 4 columns]"
            ]
          },
          "metadata": {},
          "execution_count": 21
        }
      ]
    },
    {
      "cell_type": "code",
      "source": [
        "# Separar datos entre datos de entrada y etiquetas (resultados)\n",
        "x_train = train.drop('count', axis = 1)\n",
        "x_test = test.drop('count',axis = 1)\n",
        "y_train = train['count']\n",
        "y_test = test['count']"
      ],
      "metadata": {
        "id": "X3_esQAECbDQ"
      },
      "execution_count": null,
      "outputs": []
    },
    {
      "cell_type": "markdown",
      "source": [
        "Entrenamiento y prediccion"
      ],
      "metadata": {
        "id": "kAfCBxu8aUUR"
      }
    },
    {
      "cell_type": "code",
      "source": [
        "# Elegir, instanciar (eligiendo unos valores concretos, por ejemplo k=3 y w=’uniform’) y entrenar el modelo\n",
        "k = 3\n",
        "w = 'uniform'\n",
        "\n",
        "model = KNeighborsRegressor(k, weights=w)\n",
        "model.fit(x_train, y_train)\n",
        "\n",
        "# Realizar una predicción con los datos de prueba\n",
        "y_model = model.predict(x_test)"
      ],
      "metadata": {
        "id": "rzJIeIR3csOz"
      },
      "execution_count": null,
      "outputs": []
    },
    {
      "cell_type": "code",
      "source": [
        "# Mostrar el error cuadratico medio\n",
        "mean_squared_error(y_model,y_test)"
      ],
      "metadata": {
        "colab": {
          "base_uri": "https://localhost:8080/"
        },
        "id": "pMZNe3eE8BPW",
        "outputId": "160a50f1-f4d2-4a74-bf84-ddb2d34ad5b9"
      },
      "execution_count": null,
      "outputs": [
        {
          "output_type": "execute_result",
          "data": {
            "text/plain": [
              "104306.32045294563"
            ]
          },
          "metadata": {},
          "execution_count": 24
        }
      ]
    },
    {
      "cell_type": "code",
      "source": [
        "#Mostrar el error absoluto medio\n",
        "mean_absolute_error(y_model,y_test)"
      ],
      "metadata": {
        "colab": {
          "base_uri": "https://localhost:8080/"
        },
        "id": "suofoyHT84Ge",
        "outputId": "d07b2d53-989a-464f-b4f8-0f300ff7ba14"
      },
      "execution_count": null,
      "outputs": [
        {
          "output_type": "execute_result",
          "data": {
            "text/plain": [
              "257.1427875243665"
            ]
          },
          "metadata": {},
          "execution_count": 25
        }
      ]
    },
    {
      "cell_type": "code",
      "source": [
        "# Representa graficamente los valores predichos\n",
        "xx = np.stack(i for i in range(y_test.shape[0]))\n",
        "plt.plot(xx,y_test, c='r', label='data')\n",
        "plt.plot(xx,y_model, c='g',label = 'prediction')\n",
        "plt.axis('tight')\n",
        "plt.legend()\n",
        "plt.show()"
      ],
      "metadata": {
        "colab": {
          "base_uri": "https://localhost:8080/",
          "height": 320
        },
        "id": "WjgqsCXA8rlF",
        "outputId": "b32beb80-c849-49fd-ec3d-eee5dc12ea26"
      },
      "execution_count": null,
      "outputs": [
        {
          "output_type": "stream",
          "name": "stderr",
          "text": [
            "/usr/local/lib/python3.7/dist-packages/IPython/core/interactiveshell.py:2822: FutureWarning: arrays to stack must be passed as a \"sequence\" type such as list or tuple. Support for non-sequence iterables such as generators is deprecated as of NumPy 1.16 and will raise an error in the future.\n",
            "  if self.run_code(code, result):\n"
          ]
        },
        {
          "output_type": "display_data",
          "data": {
            "image/png": "[encoded data removed]",
            "text/plain": [
              "<Figure size 432x288 with 1 Axes>"
            ]
          },
          "metadata": {
            "needs_background": "light"
          }
        }
      ]
    },
    {
      "cell_type": "markdown",
      "source": [
        "Optimizacion"
      ],
      "metadata": {
        "id": "UP7lqdGC-VEG"
      }
    },
    {
      "cell_type": "code",
      "source": [
        "def validacion_cruzada_cl(model, x, y, kf):\n",
        "  fold_accuracy = []\n",
        "  for train_fold, test_fold in kf.split(x):\n",
        " \n",
        "    x_train_fold = x.iloc[train_fold]\n",
        "    y_train_fold = y.iloc[train_fold]\n",
        "    x_test_fold = x.iloc[test_fold]\n",
        "    y_test_fold = y.iloc[test_fold]\n",
        "\n",
        "    model.fit(x_train_fold, y_train_fold)\n",
        "    \n",
        "    y_pred = model.predict(x_test_fold)\n",
        "    # evaluación del modelo con error absoluto medio\n",
        "    acc = mean_absolute_error(y_test_fold, y_pred)\n",
        "    fold_accuracy.append(acc)\n",
        "  media_score = sum(fold_accuracy)/len(fold_accuracy)\n",
        "  return media_score"
      ],
      "metadata": {
        "id": "UTJ3VjdDkRVe"
      },
      "execution_count": null,
      "outputs": []
    },
    {
      "cell_type": "code",
      "source": [
        "kf = KFold(n_splits = 5)\n",
        "\n",
        "for w in ['uniform','distance']:\n",
        "  for k in range(1,31):\n",
        "    model_opti = KNeighborsRegressor(k, weights=w)\n",
        "    media_cruzada = validacion_cruzada_cl(model_opti,x_train,y_train,kf)\n",
        "    print(\"Para k: {k} y w: {w} la media es: {m}\".format(k=k,w=w,m=media_cruzada))"
      ],
      "metadata": {
        "colab": {
          "base_uri": "https://localhost:8080/"
        },
        "id": "Zy15Hu5HkUEj",
        "outputId": "54ad9ae1-98a3-48c5-ff9a-7534095abd12"
      },
      "execution_count": null,
      "outputs": [
        {
          "output_type": "stream",
          "name": "stdout",
          "text": [
            "Para k: 1 y w: uniform la media es: 200.89145379537956\n",
            "Para k: 2 y w: uniform la media es: 185.67049504950495\n",
            "Para k: 3 y w: uniform la media es: 178.71023322332235\n",
            "Para k: 4 y w: uniform la media es: 174.18078547854785\n",
            "Para k: 5 y w: uniform la media es: 174.02353069306932\n",
            "Para k: 6 y w: uniform la media es: 172.3903154565456\n",
            "Para k: 7 y w: uniform la media es: 169.91349033474776\n",
            "Para k: 8 y w: uniform la media es: 171.2457547442244\n",
            "Para k: 9 y w: uniform la media es: 170.0107775944261\n",
            "Para k: 10 y w: uniform la media es: 169.63908547854786\n",
            "Para k: 11 y w: uniform la media es: 168.61814716471645\n",
            "Para k: 12 y w: uniform la media es: 169.7249526952695\n",
            "Para k: 13 y w: uniform la media es: 169.96104150799692\n",
            "Para k: 14 y w: uniform la media es: 170.18472960867513\n",
            "Para k: 15 y w: uniform la media es: 171.4266779977998\n",
            "Para k: 16 y w: uniform la media es: 171.61413356023098\n",
            "Para k: 17 y w: uniform la media es: 172.77045000970685\n",
            "Para k: 18 y w: uniform la media es: 172.14896012101207\n",
            "Para k: 19 y w: uniform la media es: 171.7709242661108\n",
            "Para k: 20 y w: uniform la media es: 171.98688465346532\n",
            "Para k: 21 y w: uniform la media es: 172.31328744303\n",
            "Para k: 22 y w: uniform la media es: 172.58824534953496\n",
            "Para k: 23 y w: uniform la media es: 171.84477557755775\n",
            "Para k: 24 y w: uniform la media es: 171.73530651815182\n",
            "Para k: 25 y w: uniform la media es: 172.22519577557756\n",
            "Para k: 26 y w: uniform la media es: 172.1899186341711\n",
            "Para k: 27 y w: uniform la media es: 172.08263201320133\n",
            "Para k: 28 y w: uniform la media es: 172.45634759547383\n",
            "Para k: 29 y w: uniform la media es: 172.82777267554343\n",
            "Para k: 30 y w: uniform la media es: 173.44450423542352\n",
            "Para k: 1 y w: distance la media es: 200.89145379537956\n",
            "Para k: 2 y w: distance la media es: 184.46924425354058\n",
            "Para k: 3 y w: distance la media es: 176.98361774230062\n",
            "Para k: 4 y w: distance la media es: 173.55414185040271\n",
            "Para k: 5 y w: distance la media es: 172.6127715663154\n",
            "Para k: 6 y w: distance la media es: 171.14726327911725\n",
            "Para k: 7 y w: distance la media es: 168.41341906361177\n",
            "Para k: 8 y w: distance la media es: 168.6865932527835\n",
            "Para k: 9 y w: distance la media es: 167.59774535465266\n",
            "Para k: 10 y w: distance la media es: 167.10653757397534\n",
            "Para k: 11 y w: distance la media es: 166.05903361400274\n",
            "Para k: 12 y w: distance la media es: 166.58680680014405\n",
            "Para k: 13 y w: distance la media es: 166.7529464187977\n",
            "Para k: 14 y w: distance la media es: 167.0281271877605\n",
            "Para k: 15 y w: distance la media es: 167.7521861303513\n",
            "Para k: 16 y w: distance la media es: 168.02641419892188\n",
            "Para k: 17 y w: distance la media es: 168.9337930148334\n",
            "Para k: 18 y w: distance la media es: 168.53559478108826\n",
            "Para k: 19 y w: distance la media es: 168.3352454659479\n",
            "Para k: 20 y w: distance la media es: 168.43877782300905\n",
            "Para k: 21 y w: distance la media es: 168.61918306693548\n",
            "Para k: 22 y w: distance la media es: 168.87992905375344\n",
            "Para k: 23 y w: distance la media es: 168.48924111771336\n",
            "Para k: 24 y w: distance la media es: 168.21476749834545\n",
            "Para k: 25 y w: distance la media es: 168.54724924331668\n",
            "Para k: 26 y w: distance la media es: 168.5498765739317\n",
            "Para k: 27 y w: distance la media es: 168.5599272694957\n",
            "Para k: 28 y w: distance la media es: 168.84458376917627\n",
            "Para k: 29 y w: distance la media es: 168.9823885798418\n",
            "Para k: 30 y w: distance la media es: 169.42715201748297\n"
          ]
        }
      ]
    },
    {
      "cell_type": "code",
      "source": [
        "kf = KFold(n_splits = 5)\n",
        "\n",
        "for w in ['uniform','distance']:\n",
        "  for k in range(1,31):\n",
        "    model_opti = KNeighborsRegressor(k, weights=w)\n",
        "    media_cruzada = validacion_cruzada_cl(model_opti,x_train,y_train,kf)\n",
        "    if media_cruzada < 167:\n",
        "      print(\"Para k: {k} y w: {w} la media es: {m}\".format(k=k,w=w,m=media_cruzada))"
      ],
      "metadata": {
        "colab": {
          "base_uri": "https://localhost:8080/"
        },
        "id": "syp2QcxnvVV7",
        "outputId": "5af59b3e-08eb-41dc-be70-0b425a653360"
      },
      "execution_count": null,
      "outputs": [
        {
          "output_type": "stream",
          "name": "stdout",
          "text": [
            "Para k: 11 y w: distance la media es: 166.05903361400274\n",
            "Para k: 12 y w: distance la media es: 166.58680680014405\n",
            "Para k: 13 y w: distance la media es: 166.7529464187977\n"
          ]
        }
      ]
    }
  ]
}