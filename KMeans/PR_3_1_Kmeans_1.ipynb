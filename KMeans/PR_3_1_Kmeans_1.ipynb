{
  "nbformat": 4,
  "nbformat_minor": 0,
  "metadata": {
    "colab": {
      "name": "PR_2_1_Kmeans_1.ipynb",
      "provenance": []
    },
    "kernelspec": {
      "name": "python3",
      "display_name": "Python 3"
    },
    "language_info": {
      "name": "python"
    }
  },
  "cells": [
    {
      "cell_type": "markdown",
      "source": [
        "# Importacion de librerias necesarias\n"
      ],
      "metadata": {
        "id": "DqR1hTl0os_b"
      }
    },
    {
      "cell_type": "code",
      "execution_count": 1,
      "metadata": {
        "id": "SaOvQk9Zn6fb"
      },
      "outputs": [],
      "source": [
        "import numpy as np\n",
        "import pandas as pd\n",
        "import matplotlib.pyplot as plt\n",
        "from sklearn.cluster import KMeans\n",
        "import seaborn as sbn\n",
        "from sklearn import preprocessing"
      ]
    },
    {
      "cell_type": "markdown",
      "source": [
        "# Preprocesamiento y eleccion de variables"
      ],
      "metadata": {
        "id": "87nEDYoJpGUx"
      }
    },
    {
      "cell_type": "code",
      "source": [
        "df=pd.read_csv('/content/Mall_Customers.csv')\n",
        "df"
      ],
      "metadata": {
        "colab": {
          "base_uri": "https://localhost:8080/",
          "height": 424
        },
        "id": "mDzJ2i15pKtv",
        "outputId": "acd08efa-aa13-4fdf-e6c9-ba85d81b3767"
      },
      "execution_count": 40,
      "outputs": [
        {
          "output_type": "execute_result",
          "data": {
            "text/plain": [
              "     CustomerID  Gender  Age  Annual Income (k$)  Spending Score (1-100)\n",
              "0             1    Male   19                  15                      39\n",
              "1             2    Male   21                  15                      81\n",
              "2             3  Female   20                  16                       6\n",
              "3             4  Female   23                  16                      77\n",
              "4             5  Female   31                  17                      40\n",
              "..          ...     ...  ...                 ...                     ...\n",
              "195         196  Female   35                 120                      79\n",
              "196         197  Female   45                 126                      28\n",
              "197         198    Male   32                 126                      74\n",
              "198         199    Male   32                 137                      18\n",
              "199         200    Male   30                 137                      83\n",
              "\n",
              "[200 rows x 5 columns]"
            ],
            "text/html": [
              "\n",
              "  <div id=\"df-ba9a99e9-7f6a-4d7b-b623-19623ce14b18\">\n",
              "    <div class=\"colab-df-container\">\n",
              "      <div>\n",
              "<style scoped>\n",
              "    .dataframe tbody tr th:only-of-type {\n",
              "        vertical-align: middle;\n",
              "    }\n",
              "\n",
              "    .dataframe tbody tr th {\n",
              "        vertical-align: top;\n",
              "    }\n",
              "\n",
              "    .dataframe thead th {\n",
              "        text-align: right;\n",
              "    }\n",
              "</style>\n",
              "<table border=\"1\" class=\"dataframe\">\n",
              "  <thead>\n",
              "    <tr style=\"text-align: right;\">\n",
              "      <th></th>\n",
              "      <th>CustomerID</th>\n",
              "      <th>Gender</th>\n",
              "      <th>Age</th>\n",
              "      <th>Annual Income (k$)</th>\n",
              "      <th>Spending Score (1-100)</th>\n",
              "    </tr>\n",
              "  </thead>\n",
              "  <tbody>\n",
              "    <tr>\n",
              "      <th>0</th>\n",
              "      <td>1</td>\n",
              "      <td>Male</td>\n",
              "      <td>19</td>\n",
              "      <td>15</td>\n",
              "      <td>39</td>\n",
              "    </tr>\n",
              "    <tr>\n",
              "      <th>1</th>\n",
              "      <td>2</td>\n",
              "      <td>Male</td>\n",
              "      <td>21</td>\n",
              "      <td>15</td>\n",
              "      <td>81</td>\n",
              "    </tr>\n",
              "    <tr>\n",
              "      <th>2</th>\n",
              "      <td>3</td>\n",
              "      <td>Female</td>\n",
              "      <td>20</td>\n",
              "      <td>16</td>\n",
              "      <td>6</td>\n",
              "    </tr>\n",
              "    <tr>\n",
              "      <th>3</th>\n",
              "      <td>4</td>\n",
              "      <td>Female</td>\n",
              "      <td>23</td>\n",
              "      <td>16</td>\n",
              "      <td>77</td>\n",
              "    </tr>\n",
              "    <tr>\n",
              "      <th>4</th>\n",
              "      <td>5</td>\n",
              "      <td>Female</td>\n",
              "      <td>31</td>\n",
              "      <td>17</td>\n",
              "      <td>40</td>\n",
              "    </tr>\n",
              "    <tr>\n",
              "      <th>...</th>\n",
              "      <td>...</td>\n",
              "      <td>...</td>\n",
              "      <td>...</td>\n",
              "      <td>...</td>\n",
              "      <td>...</td>\n",
              "    </tr>\n",
              "    <tr>\n",
              "      <th>195</th>\n",
              "      <td>196</td>\n",
              "      <td>Female</td>\n",
              "      <td>35</td>\n",
              "      <td>120</td>\n",
              "      <td>79</td>\n",
              "    </tr>\n",
              "    <tr>\n",
              "      <th>196</th>\n",
              "      <td>197</td>\n",
              "      <td>Female</td>\n",
              "      <td>45</td>\n",
              "      <td>126</td>\n",
              "      <td>28</td>\n",
              "    </tr>\n",
              "    <tr>\n",
              "      <th>197</th>\n",
              "      <td>198</td>\n",
              "      <td>Male</td>\n",
              "      <td>32</td>\n",
              "      <td>126</td>\n",
              "      <td>74</td>\n",
              "    </tr>\n",
              "    <tr>\n",
              "      <th>198</th>\n",
              "      <td>199</td>\n",
              "      <td>Male</td>\n",
              "      <td>32</td>\n",
              "      <td>137</td>\n",
              "      <td>18</td>\n",
              "    </tr>\n",
              "    <tr>\n",
              "      <th>199</th>\n",
              "      <td>200</td>\n",
              "      <td>Male</td>\n",
              "      <td>30</td>\n",
              "      <td>137</td>\n",
              "      <td>83</td>\n",
              "    </tr>\n",
              "  </tbody>\n",
              "</table>\n",
              "<p>200 rows × 5 columns</p>\n",
              "</div>\n",
              "      <button class=\"colab-df-convert\" onclick=\"convertToInteractive('df-ba9a99e9-7f6a-4d7b-b623-19623ce14b18')\"\n",
              "              title=\"Convert this dataframe to an interactive table.\"\n",
              "              style=\"display:none;\">\n",
              "        \n",
              "  <svg xmlns=\"http://www.w3.org/2000/svg\" height=\"24px\"viewBox=\"0 0 24 24\"\n",
              "       width=\"24px\">\n",
              "    <path d=\"M0 0h24v24H0V0z\" fill=\"none\"/>\n",
              "    <path d=\"M18.56 5.44l.94 2.06.94-2.06 2.06-.94-2.06-.94-.94-2.06-.94 2.06-2.06.94zm-11 1L8.5 8.5l.94-2.06 2.06-.94-2.06-.94L8.5 2.5l-.94 2.06-2.06.94zm10 10l.94 2.06.94-2.06 2.06-.94-2.06-.94-.94-2.06-.94 2.06-2.06.94z\"/><path d=\"M17.41 7.96l-1.37-1.37c-.4-.4-.92-.59-1.43-.59-.52 0-1.04.2-1.43.59L10.3 9.45l-7.72 7.72c-.78.78-.78 2.05 0 2.83L4 21.41c.39.39.9.59 1.41.59.51 0 1.02-.2 1.41-.59l7.78-7.78 2.81-2.81c.8-.78.8-2.07 0-2.86zM5.41 20L4 18.59l7.72-7.72 1.47 1.35L5.41 20z\"/>\n",
              "  </svg>\n",
              "      </button>\n",
              "      \n",
              "  <style>\n",
              "    .colab-df-container {\n",
              "      display:flex;\n",
              "      flex-wrap:wrap;\n",
              "      gap: 12px;\n",
              "    }\n",
              "\n",
              "    .colab-df-convert {\n",
              "      background-color: #E8F0FE;\n",
              "      border: none;\n",
              "      border-radius: 50%;\n",
              "      cursor: pointer;\n",
              "      display: none;\n",
              "      fill: #1967D2;\n",
              "      height: 32px;\n",
              "      padding: 0 0 0 0;\n",
              "      width: 32px;\n",
              "    }\n",
              "\n",
              "    .colab-df-convert:hover {\n",
              "      background-color: #E2EBFA;\n",
              "      box-shadow: 0px 1px 2px rgba(60, 64, 67, 0.3), 0px 1px 3px 1px rgba(60, 64, 67, 0.15);\n",
              "      fill: #174EA6;\n",
              "    }\n",
              "\n",
              "    [theme=dark] .colab-df-convert {\n",
              "      background-color: #3B4455;\n",
              "      fill: #D2E3FC;\n",
              "    }\n",
              "\n",
              "    [theme=dark] .colab-df-convert:hover {\n",
              "      background-color: #434B5C;\n",
              "      box-shadow: 0px 1px 3px 1px rgba(0, 0, 0, 0.15);\n",
              "      filter: drop-shadow(0px 1px 2px rgba(0, 0, 0, 0.3));\n",
              "      fill: #FFFFFF;\n",
              "    }\n",
              "  </style>\n",
              "\n",
              "      <script>\n",
              "        const buttonEl =\n",
              "          document.querySelector('#df-ba9a99e9-7f6a-4d7b-b623-19623ce14b18 button.colab-df-convert');\n",
              "        buttonEl.style.display =\n",
              "          google.colab.kernel.accessAllowed ? 'block' : 'none';\n",
              "\n",
              "        async function convertToInteractive(key) {\n",
              "          const element = document.querySelector('#df-ba9a99e9-7f6a-4d7b-b623-19623ce14b18');\n",
              "          const dataTable =\n",
              "            await google.colab.kernel.invokeFunction('convertToInteractive',\n",
              "                                                     [key], {});\n",
              "          if (!dataTable) return;\n",
              "\n",
              "          const docLinkHtml = 'Like what you see? Visit the ' +\n",
              "            '<a target=\"_blank\" href=https://colab.research.google.com/notebooks/data_table.ipynb>data table notebook</a>'\n",
              "            + ' to learn more about interactive tables.';\n",
              "          element.innerHTML = '';\n",
              "          dataTable['output_type'] = 'display_data';\n",
              "          await google.colab.output.renderOutput(dataTable, element);\n",
              "          const docLink = document.createElement('div');\n",
              "          docLink.innerHTML = docLinkHtml;\n",
              "          element.appendChild(docLink);\n",
              "        }\n",
              "      </script>\n",
              "    </div>\n",
              "  </div>\n",
              "  "
            ]
          },
          "metadata": {},
          "execution_count": 40
        }
      ]
    },
    {
      "cell_type": "markdown",
      "source": [
        "Datos estadisticos del DataFrame\n"
      ],
      "metadata": {
        "id": "3DhURpNAqS0W"
      }
    },
    {
      "cell_type": "code",
      "source": [
        "df.describe()"
      ],
      "metadata": {
        "colab": {
          "base_uri": "https://localhost:8080/",
          "height": 300
        },
        "id": "X-beVScrp3Cf",
        "outputId": "b58bd82c-4d9d-49a2-c629-12946d45a9af"
      },
      "execution_count": 41,
      "outputs": [
        {
          "output_type": "execute_result",
          "data": {
            "text/plain": [
              "       CustomerID         Age  Annual Income (k$)  Spending Score (1-100)\n",
              "count  200.000000  200.000000          200.000000              200.000000\n",
              "mean   100.500000   38.850000           60.560000               50.200000\n",
              "std     57.879185   13.969007           26.264721               25.823522\n",
              "min      1.000000   18.000000           15.000000                1.000000\n",
              "25%     50.750000   28.750000           41.500000               34.750000\n",
              "50%    100.500000   36.000000           61.500000               50.000000\n",
              "75%    150.250000   49.000000           78.000000               73.000000\n",
              "max    200.000000   70.000000          137.000000               99.000000"
            ],
            "text/html": [
              "\n",
              "  <div id=\"df-1eec716e-3097-440b-83be-8a12e7c37ba7\">\n",
              "    <div class=\"colab-df-container\">\n",
              "      <div>\n",
              "<style scoped>\n",
              "    .dataframe tbody tr th:only-of-type {\n",
              "        vertical-align: middle;\n",
              "    }\n",
              "\n",
              "    .dataframe tbody tr th {\n",
              "        vertical-align: top;\n",
              "    }\n",
              "\n",
              "    .dataframe thead th {\n",
              "        text-align: right;\n",
              "    }\n",
              "</style>\n",
              "<table border=\"1\" class=\"dataframe\">\n",
              "  <thead>\n",
              "    <tr style=\"text-align: right;\">\n",
              "      <th></th>\n",
              "      <th>CustomerID</th>\n",
              "      <th>Age</th>\n",
              "      <th>Annual Income (k$)</th>\n",
              "      <th>Spending Score (1-100)</th>\n",
              "    </tr>\n",
              "  </thead>\n",
              "  <tbody>\n",
              "    <tr>\n",
              "      <th>count</th>\n",
              "      <td>200.000000</td>\n",
              "      <td>200.000000</td>\n",
              "      <td>200.000000</td>\n",
              "      <td>200.000000</td>\n",
              "    </tr>\n",
              "    <tr>\n",
              "      <th>mean</th>\n",
              "      <td>100.500000</td>\n",
              "      <td>38.850000</td>\n",
              "      <td>60.560000</td>\n",
              "      <td>50.200000</td>\n",
              "    </tr>\n",
              "    <tr>\n",
              "      <th>std</th>\n",
              "      <td>57.879185</td>\n",
              "      <td>13.969007</td>\n",
              "      <td>26.264721</td>\n",
              "      <td>25.823522</td>\n",
              "    </tr>\n",
              "    <tr>\n",
              "      <th>min</th>\n",
              "      <td>1.000000</td>\n",
              "      <td>18.000000</td>\n",
              "      <td>15.000000</td>\n",
              "      <td>1.000000</td>\n",
              "    </tr>\n",
              "    <tr>\n",
              "      <th>25%</th>\n",
              "      <td>50.750000</td>\n",
              "      <td>28.750000</td>\n",
              "      <td>41.500000</td>\n",
              "      <td>34.750000</td>\n",
              "    </tr>\n",
              "    <tr>\n",
              "      <th>50%</th>\n",
              "      <td>100.500000</td>\n",
              "      <td>36.000000</td>\n",
              "      <td>61.500000</td>\n",
              "      <td>50.000000</td>\n",
              "    </tr>\n",
              "    <tr>\n",
              "      <th>75%</th>\n",
              "      <td>150.250000</td>\n",
              "      <td>49.000000</td>\n",
              "      <td>78.000000</td>\n",
              "      <td>73.000000</td>\n",
              "    </tr>\n",
              "    <tr>\n",
              "      <th>max</th>\n",
              "      <td>200.000000</td>\n",
              "      <td>70.000000</td>\n",
              "      <td>137.000000</td>\n",
              "      <td>99.000000</td>\n",
              "    </tr>\n",
              "  </tbody>\n",
              "</table>\n",
              "</div>\n",
              "      <button class=\"colab-df-convert\" onclick=\"convertToInteractive('df-1eec716e-3097-440b-83be-8a12e7c37ba7')\"\n",
              "              title=\"Convert this dataframe to an interactive table.\"\n",
              "              style=\"display:none;\">\n",
              "        \n",
              "  <svg xmlns=\"http://www.w3.org/2000/svg\" height=\"24px\"viewBox=\"0 0 24 24\"\n",
              "       width=\"24px\">\n",
              "    <path d=\"M0 0h24v24H0V0z\" fill=\"none\"/>\n",
              "    <path d=\"M18.56 5.44l.94 2.06.94-2.06 2.06-.94-2.06-.94-.94-2.06-.94 2.06-2.06.94zm-11 1L8.5 8.5l.94-2.06 2.06-.94-2.06-.94L8.5 2.5l-.94 2.06-2.06.94zm10 10l.94 2.06.94-2.06 2.06-.94-2.06-.94-.94-2.06-.94 2.06-2.06.94z\"/><path d=\"M17.41 7.96l-1.37-1.37c-.4-.4-.92-.59-1.43-.59-.52 0-1.04.2-1.43.59L10.3 9.45l-7.72 7.72c-.78.78-.78 2.05 0 2.83L4 21.41c.39.39.9.59 1.41.59.51 0 1.02-.2 1.41-.59l7.78-7.78 2.81-2.81c.8-.78.8-2.07 0-2.86zM5.41 20L4 18.59l7.72-7.72 1.47 1.35L5.41 20z\"/>\n",
              "  </svg>\n",
              "      </button>\n",
              "      \n",
              "  <style>\n",
              "    .colab-df-container {\n",
              "      display:flex;\n",
              "      flex-wrap:wrap;\n",
              "      gap: 12px;\n",
              "    }\n",
              "\n",
              "    .colab-df-convert {\n",
              "      background-color: #E8F0FE;\n",
              "      border: none;\n",
              "      border-radius: 50%;\n",
              "      cursor: pointer;\n",
              "      display: none;\n",
              "      fill: #1967D2;\n",
              "      height: 32px;\n",
              "      padding: 0 0 0 0;\n",
              "      width: 32px;\n",
              "    }\n",
              "\n",
              "    .colab-df-convert:hover {\n",
              "      background-color: #E2EBFA;\n",
              "      box-shadow: 0px 1px 2px rgba(60, 64, 67, 0.3), 0px 1px 3px 1px rgba(60, 64, 67, 0.15);\n",
              "      fill: #174EA6;\n",
              "    }\n",
              "\n",
              "    [theme=dark] .colab-df-convert {\n",
              "      background-color: #3B4455;\n",
              "      fill: #D2E3FC;\n",
              "    }\n",
              "\n",
              "    [theme=dark] .colab-df-convert:hover {\n",
              "      background-color: #434B5C;\n",
              "      box-shadow: 0px 1px 3px 1px rgba(0, 0, 0, 0.15);\n",
              "      filter: drop-shadow(0px 1px 2px rgba(0, 0, 0, 0.3));\n",
              "      fill: #FFFFFF;\n",
              "    }\n",
              "  </style>\n",
              "\n",
              "      <script>\n",
              "        const buttonEl =\n",
              "          document.querySelector('#df-1eec716e-3097-440b-83be-8a12e7c37ba7 button.colab-df-convert');\n",
              "        buttonEl.style.display =\n",
              "          google.colab.kernel.accessAllowed ? 'block' : 'none';\n",
              "\n",
              "        async function convertToInteractive(key) {\n",
              "          const element = document.querySelector('#df-1eec716e-3097-440b-83be-8a12e7c37ba7');\n",
              "          const dataTable =\n",
              "            await google.colab.kernel.invokeFunction('convertToInteractive',\n",
              "                                                     [key], {});\n",
              "          if (!dataTable) return;\n",
              "\n",
              "          const docLinkHtml = 'Like what you see? Visit the ' +\n",
              "            '<a target=\"_blank\" href=https://colab.research.google.com/notebooks/data_table.ipynb>data table notebook</a>'\n",
              "            + ' to learn more about interactive tables.';\n",
              "          element.innerHTML = '';\n",
              "          dataTable['output_type'] = 'display_data';\n",
              "          await google.colab.output.renderOutput(dataTable, element);\n",
              "          const docLink = document.createElement('div');\n",
              "          docLink.innerHTML = docLinkHtml;\n",
              "          element.appendChild(docLink);\n",
              "        }\n",
              "      </script>\n",
              "    </div>\n",
              "  </div>\n",
              "  "
            ]
          },
          "metadata": {},
          "execution_count": 41
        }
      ]
    },
    {
      "cell_type": "markdown",
      "source": [
        "Matriz de coorelacion"
      ],
      "metadata": {
        "id": "lyzFUMZ5qXUP"
      }
    },
    {
      "cell_type": "code",
      "source": [
        "sbn.set(rc = {'figure.figsize':(15,8)})\n",
        "sbn.heatmap(df.corr(), square=True, annot=True)"
      ],
      "metadata": {
        "colab": {
          "base_uri": "https://localhost:8080/",
          "height": 627
        },
        "id": "5BBu3FyEqItH",
        "outputId": "b8a777d4-aefb-425e-fb97-0545a0e67824"
      },
      "execution_count": 42,
      "outputs": [
        {
          "output_type": "execute_result",
          "data": {
            "text/plain": [
              "<matplotlib.axes._subplots.AxesSubplot at 0x7fb11129aad0>"
            ]
          },
          "metadata": {},
          "execution_count": 42
        },
        {
          "output_type": "display_data",
          "data": {
            "text/plain": [
              "<Figure size 1080x576 with 2 Axes>"
            ],
            "image/png": "[encoded data removed]"
          },
          "metadata": {}
        }
      ]
    },
    {
      "cell_type": "markdown",
      "source": [
        "eliminamos el id del cliente"
      ],
      "metadata": {
        "id": "SU02ex6Q2UHc"
      }
    },
    {
      "cell_type": "code",
      "source": [
        "df = df.drop(['CustomerID', 'Gender'], axis = 1)"
      ],
      "metadata": {
        "id": "4KDyqgiP2Tng"
      },
      "execution_count": 43,
      "outputs": []
    },
    {
      "cell_type": "code",
      "source": [
        "df"
      ],
      "metadata": {
        "colab": {
          "base_uri": "https://localhost:8080/",
          "height": 424
        },
        "id": "OeuPXwAs2cGM",
        "outputId": "9f7cbf9b-7664-46ff-e654-b6eff6d39c7b"
      },
      "execution_count": 44,
      "outputs": [
        {
          "output_type": "execute_result",
          "data": {
            "text/plain": [
              "     Age  Annual Income (k$)  Spending Score (1-100)\n",
              "0     19                  15                      39\n",
              "1     21                  15                      81\n",
              "2     20                  16                       6\n",
              "3     23                  16                      77\n",
              "4     31                  17                      40\n",
              "..   ...                 ...                     ...\n",
              "195   35                 120                      79\n",
              "196   45                 126                      28\n",
              "197   32                 126                      74\n",
              "198   32                 137                      18\n",
              "199   30                 137                      83\n",
              "\n",
              "[200 rows x 3 columns]"
            ],
            "text/html": [
              "\n",
              "  <div id=\"df-2510dad8-dae5-4c39-b3e7-fb0e7918667d\">\n",
              "    <div class=\"colab-df-container\">\n",
              "      <div>\n",
              "<style scoped>\n",
              "    .dataframe tbody tr th:only-of-type {\n",
              "        vertical-align: middle;\n",
              "    }\n",
              "\n",
              "    .dataframe tbody tr th {\n",
              "        vertical-align: top;\n",
              "    }\n",
              "\n",
              "    .dataframe thead th {\n",
              "        text-align: right;\n",
              "    }\n",
              "</style>\n",
              "<table border=\"1\" class=\"dataframe\">\n",
              "  <thead>\n",
              "    <tr style=\"text-align: right;\">\n",
              "      <th></th>\n",
              "      <th>Age</th>\n",
              "      <th>Annual Income (k$)</th>\n",
              "      <th>Spending Score (1-100)</th>\n",
              "    </tr>\n",
              "  </thead>\n",
              "  <tbody>\n",
              "    <tr>\n",
              "      <th>0</th>\n",
              "      <td>19</td>\n",
              "      <td>15</td>\n",
              "      <td>39</td>\n",
              "    </tr>\n",
              "    <tr>\n",
              "      <th>1</th>\n",
              "      <td>21</td>\n",
              "      <td>15</td>\n",
              "      <td>81</td>\n",
              "    </tr>\n",
              "    <tr>\n",
              "      <th>2</th>\n",
              "      <td>20</td>\n",
              "      <td>16</td>\n",
              "      <td>6</td>\n",
              "    </tr>\n",
              "    <tr>\n",
              "      <th>3</th>\n",
              "      <td>23</td>\n",
              "      <td>16</td>\n",
              "      <td>77</td>\n",
              "    </tr>\n",
              "    <tr>\n",
              "      <th>4</th>\n",
              "      <td>31</td>\n",
              "      <td>17</td>\n",
              "      <td>40</td>\n",
              "    </tr>\n",
              "    <tr>\n",
              "      <th>...</th>\n",
              "      <td>...</td>\n",
              "      <td>...</td>\n",
              "      <td>...</td>\n",
              "    </tr>\n",
              "    <tr>\n",
              "      <th>195</th>\n",
              "      <td>35</td>\n",
              "      <td>120</td>\n",
              "      <td>79</td>\n",
              "    </tr>\n",
              "    <tr>\n",
              "      <th>196</th>\n",
              "      <td>45</td>\n",
              "      <td>126</td>\n",
              "      <td>28</td>\n",
              "    </tr>\n",
              "    <tr>\n",
              "      <th>197</th>\n",
              "      <td>32</td>\n",
              "      <td>126</td>\n",
              "      <td>74</td>\n",
              "    </tr>\n",
              "    <tr>\n",
              "      <th>198</th>\n",
              "      <td>32</td>\n",
              "      <td>137</td>\n",
              "      <td>18</td>\n",
              "    </tr>\n",
              "    <tr>\n",
              "      <th>199</th>\n",
              "      <td>30</td>\n",
              "      <td>137</td>\n",
              "      <td>83</td>\n",
              "    </tr>\n",
              "  </tbody>\n",
              "</table>\n",
              "<p>200 rows × 3 columns</p>\n",
              "</div>\n",
              "      <button class=\"colab-df-convert\" onclick=\"convertToInteractive('df-2510dad8-dae5-4c39-b3e7-fb0e7918667d')\"\n",
              "              title=\"Convert this dataframe to an interactive table.\"\n",
              "              style=\"display:none;\">\n",
              "        \n",
              "  <svg xmlns=\"http://www.w3.org/2000/svg\" height=\"24px\"viewBox=\"0 0 24 24\"\n",
              "       width=\"24px\">\n",
              "    <path d=\"M0 0h24v24H0V0z\" fill=\"none\"/>\n",
              "    <path d=\"M18.56 5.44l.94 2.06.94-2.06 2.06-.94-2.06-.94-.94-2.06-.94 2.06-2.06.94zm-11 1L8.5 8.5l.94-2.06 2.06-.94-2.06-.94L8.5 2.5l-.94 2.06-2.06.94zm10 10l.94 2.06.94-2.06 2.06-.94-2.06-.94-.94-2.06-.94 2.06-2.06.94z\"/><path d=\"M17.41 7.96l-1.37-1.37c-.4-.4-.92-.59-1.43-.59-.52 0-1.04.2-1.43.59L10.3 9.45l-7.72 7.72c-.78.78-.78 2.05 0 2.83L4 21.41c.39.39.9.59 1.41.59.51 0 1.02-.2 1.41-.59l7.78-7.78 2.81-2.81c.8-.78.8-2.07 0-2.86zM5.41 20L4 18.59l7.72-7.72 1.47 1.35L5.41 20z\"/>\n",
              "  </svg>\n",
              "      </button>\n",
              "      \n",
              "  <style>\n",
              "    .colab-df-container {\n",
              "      display:flex;\n",
              "      flex-wrap:wrap;\n",
              "      gap: 12px;\n",
              "    }\n",
              "\n",
              "    .colab-df-convert {\n",
              "      background-color: #E8F0FE;\n",
              "      border: none;\n",
              "      border-radius: 50%;\n",
              "      cursor: pointer;\n",
              "      display: none;\n",
              "      fill: #1967D2;\n",
              "      height: 32px;\n",
              "      padding: 0 0 0 0;\n",
              "      width: 32px;\n",
              "    }\n",
              "\n",
              "    .colab-df-convert:hover {\n",
              "      background-color: #E2EBFA;\n",
              "      box-shadow: 0px 1px 2px rgba(60, 64, 67, 0.3), 0px 1px 3px 1px rgba(60, 64, 67, 0.15);\n",
              "      fill: #174EA6;\n",
              "    }\n",
              "\n",
              "    [theme=dark] .colab-df-convert {\n",
              "      background-color: #3B4455;\n",
              "      fill: #D2E3FC;\n",
              "    }\n",
              "\n",
              "    [theme=dark] .colab-df-convert:hover {\n",
              "      background-color: #434B5C;\n",
              "      box-shadow: 0px 1px 3px 1px rgba(0, 0, 0, 0.15);\n",
              "      filter: drop-shadow(0px 1px 2px rgba(0, 0, 0, 0.3));\n",
              "      fill: #FFFFFF;\n",
              "    }\n",
              "  </style>\n",
              "\n",
              "      <script>\n",
              "        const buttonEl =\n",
              "          document.querySelector('#df-2510dad8-dae5-4c39-b3e7-fb0e7918667d button.colab-df-convert');\n",
              "        buttonEl.style.display =\n",
              "          google.colab.kernel.accessAllowed ? 'block' : 'none';\n",
              "\n",
              "        async function convertToInteractive(key) {\n",
              "          const element = document.querySelector('#df-2510dad8-dae5-4c39-b3e7-fb0e7918667d');\n",
              "          const dataTable =\n",
              "            await google.colab.kernel.invokeFunction('convertToInteractive',\n",
              "                                                     [key], {});\n",
              "          if (!dataTable) return;\n",
              "\n",
              "          const docLinkHtml = 'Like what you see? Visit the ' +\n",
              "            '<a target=\"_blank\" href=https://colab.research.google.com/notebooks/data_table.ipynb>data table notebook</a>'\n",
              "            + ' to learn more about interactive tables.';\n",
              "          element.innerHTML = '';\n",
              "          dataTable['output_type'] = 'display_data';\n",
              "          await google.colab.output.renderOutput(dataTable, element);\n",
              "          const docLink = document.createElement('div');\n",
              "          docLink.innerHTML = docLinkHtml;\n",
              "          element.appendChild(docLink);\n",
              "        }\n",
              "      </script>\n",
              "    </div>\n",
              "  </div>\n",
              "  "
            ]
          },
          "metadata": {},
          "execution_count": 44
        }
      ]
    },
    {
      "cell_type": "markdown",
      "source": [
        "# Escalamiento y detección de outliers"
      ],
      "metadata": {
        "id": "h_EuFoO0rbsW"
      }
    },
    {
      "cell_type": "code",
      "source": [
        "X = df.iloc[:,:].values\n",
        "X"
      ],
      "metadata": {
        "colab": {
          "base_uri": "https://localhost:8080/"
        },
        "id": "JUWvIGJR7R1a",
        "outputId": "775a026c-27ce-4bf7-ba07-6e3959ce7229"
      },
      "execution_count": 45,
      "outputs": [
        {
          "output_type": "execute_result",
          "data": {
            "text/plain": [
              "array([[ 19,  15,  39],\n",
              "       [ 21,  15,  81],\n",
              "       [ 20,  16,   6],\n",
              "       [ 23,  16,  77],\n",
              "       [ 31,  17,  40],\n",
              "       [ 22,  17,  76],\n",
              "       [ 35,  18,   6],\n",
              "       [ 23,  18,  94],\n",
              "       [ 64,  19,   3],\n",
              "       [ 30,  19,  72],\n",
              "       [ 67,  19,  14],\n",
              "       [ 35,  19,  99],\n",
              "       [ 58,  20,  15],\n",
              "       [ 24,  20,  77],\n",
              "       [ 37,  20,  13],\n",
              "       [ 22,  20,  79],\n",
              "       [ 35,  21,  35],\n",
              "       [ 20,  21,  66],\n",
              "       [ 52,  23,  29],\n",
              "       [ 35,  23,  98],\n",
              "       [ 35,  24,  35],\n",
              "       [ 25,  24,  73],\n",
              "       [ 46,  25,   5],\n",
              "       [ 31,  25,  73],\n",
              "       [ 54,  28,  14],\n",
              "       [ 29,  28,  82],\n",
              "       [ 45,  28,  32],\n",
              "       [ 35,  28,  61],\n",
              "       [ 40,  29,  31],\n",
              "       [ 23,  29,  87],\n",
              "       [ 60,  30,   4],\n",
              "       [ 21,  30,  73],\n",
              "       [ 53,  33,   4],\n",
              "       [ 18,  33,  92],\n",
              "       [ 49,  33,  14],\n",
              "       [ 21,  33,  81],\n",
              "       [ 42,  34,  17],\n",
              "       [ 30,  34,  73],\n",
              "       [ 36,  37,  26],\n",
              "       [ 20,  37,  75],\n",
              "       [ 65,  38,  35],\n",
              "       [ 24,  38,  92],\n",
              "       [ 48,  39,  36],\n",
              "       [ 31,  39,  61],\n",
              "       [ 49,  39,  28],\n",
              "       [ 24,  39,  65],\n",
              "       [ 50,  40,  55],\n",
              "       [ 27,  40,  47],\n",
              "       [ 29,  40,  42],\n",
              "       [ 31,  40,  42],\n",
              "       [ 49,  42,  52],\n",
              "       [ 33,  42,  60],\n",
              "       [ 31,  43,  54],\n",
              "       [ 59,  43,  60],\n",
              "       [ 50,  43,  45],\n",
              "       [ 47,  43,  41],\n",
              "       [ 51,  44,  50],\n",
              "       [ 69,  44,  46],\n",
              "       [ 27,  46,  51],\n",
              "       [ 53,  46,  46],\n",
              "       [ 70,  46,  56],\n",
              "       [ 19,  46,  55],\n",
              "       [ 67,  47,  52],\n",
              "       [ 54,  47,  59],\n",
              "       [ 63,  48,  51],\n",
              "       [ 18,  48,  59],\n",
              "       [ 43,  48,  50],\n",
              "       [ 68,  48,  48],\n",
              "       [ 19,  48,  59],\n",
              "       [ 32,  48,  47],\n",
              "       [ 70,  49,  55],\n",
              "       [ 47,  49,  42],\n",
              "       [ 60,  50,  49],\n",
              "       [ 60,  50,  56],\n",
              "       [ 59,  54,  47],\n",
              "       [ 26,  54,  54],\n",
              "       [ 45,  54,  53],\n",
              "       [ 40,  54,  48],\n",
              "       [ 23,  54,  52],\n",
              "       [ 49,  54,  42],\n",
              "       [ 57,  54,  51],\n",
              "       [ 38,  54,  55],\n",
              "       [ 67,  54,  41],\n",
              "       [ 46,  54,  44],\n",
              "       [ 21,  54,  57],\n",
              "       [ 48,  54,  46],\n",
              "       [ 55,  57,  58],\n",
              "       [ 22,  57,  55],\n",
              "       [ 34,  58,  60],\n",
              "       [ 50,  58,  46],\n",
              "       [ 68,  59,  55],\n",
              "       [ 18,  59,  41],\n",
              "       [ 48,  60,  49],\n",
              "       [ 40,  60,  40],\n",
              "       [ 32,  60,  42],\n",
              "       [ 24,  60,  52],\n",
              "       [ 47,  60,  47],\n",
              "       [ 27,  60,  50],\n",
              "       [ 48,  61,  42],\n",
              "       [ 20,  61,  49],\n",
              "       [ 23,  62,  41],\n",
              "       [ 49,  62,  48],\n",
              "       [ 67,  62,  59],\n",
              "       [ 26,  62,  55],\n",
              "       [ 49,  62,  56],\n",
              "       [ 21,  62,  42],\n",
              "       [ 66,  63,  50],\n",
              "       [ 54,  63,  46],\n",
              "       [ 68,  63,  43],\n",
              "       [ 66,  63,  48],\n",
              "       [ 65,  63,  52],\n",
              "       [ 19,  63,  54],\n",
              "       [ 38,  64,  42],\n",
              "       [ 19,  64,  46],\n",
              "       [ 18,  65,  48],\n",
              "       [ 19,  65,  50],\n",
              "       [ 63,  65,  43],\n",
              "       [ 49,  65,  59],\n",
              "       [ 51,  67,  43],\n",
              "       [ 50,  67,  57],\n",
              "       [ 27,  67,  56],\n",
              "       [ 38,  67,  40],\n",
              "       [ 40,  69,  58],\n",
              "       [ 39,  69,  91],\n",
              "       [ 23,  70,  29],\n",
              "       [ 31,  70,  77],\n",
              "       [ 43,  71,  35],\n",
              "       [ 40,  71,  95],\n",
              "       [ 59,  71,  11],\n",
              "       [ 38,  71,  75],\n",
              "       [ 47,  71,   9],\n",
              "       [ 39,  71,  75],\n",
              "       [ 25,  72,  34],\n",
              "       [ 31,  72,  71],\n",
              "       [ 20,  73,   5],\n",
              "       [ 29,  73,  88],\n",
              "       [ 44,  73,   7],\n",
              "       [ 32,  73,  73],\n",
              "       [ 19,  74,  10],\n",
              "       [ 35,  74,  72],\n",
              "       [ 57,  75,   5],\n",
              "       [ 32,  75,  93],\n",
              "       [ 28,  76,  40],\n",
              "       [ 32,  76,  87],\n",
              "       [ 25,  77,  12],\n",
              "       [ 28,  77,  97],\n",
              "       [ 48,  77,  36],\n",
              "       [ 32,  77,  74],\n",
              "       [ 34,  78,  22],\n",
              "       [ 34,  78,  90],\n",
              "       [ 43,  78,  17],\n",
              "       [ 39,  78,  88],\n",
              "       [ 44,  78,  20],\n",
              "       [ 38,  78,  76],\n",
              "       [ 47,  78,  16],\n",
              "       [ 27,  78,  89],\n",
              "       [ 37,  78,   1],\n",
              "       [ 30,  78,  78],\n",
              "       [ 34,  78,   1],\n",
              "       [ 30,  78,  73],\n",
              "       [ 56,  79,  35],\n",
              "       [ 29,  79,  83],\n",
              "       [ 19,  81,   5],\n",
              "       [ 31,  81,  93],\n",
              "       [ 50,  85,  26],\n",
              "       [ 36,  85,  75],\n",
              "       [ 42,  86,  20],\n",
              "       [ 33,  86,  95],\n",
              "       [ 36,  87,  27],\n",
              "       [ 32,  87,  63],\n",
              "       [ 40,  87,  13],\n",
              "       [ 28,  87,  75],\n",
              "       [ 36,  87,  10],\n",
              "       [ 36,  87,  92],\n",
              "       [ 52,  88,  13],\n",
              "       [ 30,  88,  86],\n",
              "       [ 58,  88,  15],\n",
              "       [ 27,  88,  69],\n",
              "       [ 59,  93,  14],\n",
              "       [ 35,  93,  90],\n",
              "       [ 37,  97,  32],\n",
              "       [ 32,  97,  86],\n",
              "       [ 46,  98,  15],\n",
              "       [ 29,  98,  88],\n",
              "       [ 41,  99,  39],\n",
              "       [ 30,  99,  97],\n",
              "       [ 54, 101,  24],\n",
              "       [ 28, 101,  68],\n",
              "       [ 41, 103,  17],\n",
              "       [ 36, 103,  85],\n",
              "       [ 34, 103,  23],\n",
              "       [ 32, 103,  69],\n",
              "       [ 33, 113,   8],\n",
              "       [ 38, 113,  91],\n",
              "       [ 47, 120,  16],\n",
              "       [ 35, 120,  79],\n",
              "       [ 45, 126,  28],\n",
              "       [ 32, 126,  74],\n",
              "       [ 32, 137,  18],\n",
              "       [ 30, 137,  83]])"
            ]
          },
          "metadata": {},
          "execution_count": 45
        }
      ]
    },
    {
      "cell_type": "code",
      "source": [
        "N = X.shape[0] \n",
        "K = 2 \n",
        "\n",
        "SSE = []\n",
        "for i in range(0, N):\n",
        "  X_sin_i = np.delete(X, i, axis=0) \n",
        "  kmeans = KMeans(n_clusters=K, n_init=10, random_state=100).fit(X_sin_i)\n",
        "  SSE.append(kmeans.inertia_)"
      ],
      "metadata": {
        "id": "SOcCE76r7PYC"
      },
      "execution_count": 46,
      "outputs": []
    },
    {
      "cell_type": "code",
      "source": [
        "plt.plot(np.arange(0, N), SSE, \"ko-\")\n",
        "plt.title(\"Valor del índice SSE eliminando el dato i\", fontsize=16)\n",
        "plt.xlabel(\"Dato i\", fontsize=14)\n",
        "plt.ylabel(\"SSE\", fontsize=14)\n",
        "plt.show()"
      ],
      "metadata": {
        "colab": {
          "base_uri": "https://localhost:8080/",
          "height": 301
        },
        "id": "CdWirxpw7trl",
        "outputId": "0cd3bfaf-94f4-450f-bebe-0120963ab105"
      },
      "execution_count": 10,
      "outputs": [
        {
          "output_type": "display_data",
          "data": {
            "text/plain": [
              "<Figure size 432x288 with 1 Axes>"
            ],
            "image/png": "[encoded data removed]"
          },
          "metadata": {
            "needs_background": "light"
          }
        }
      ]
    },
    {
      "cell_type": "markdown",
      "source": [
        "Detectar y eliminar outliers\n",
        "Almacenaremos el índice SSE de cada una de las ejecuciones en un vector. Esa\n",
        "información se puede obtener con la variable inertia_ del modelo"
      ],
      "metadata": {
        "id": "6ibzSuJcujZe"
      }
    },
    {
      "cell_type": "code",
      "source": [
        "sigma = np.std(SSE) \n",
        "mu = np.mean(SSE) \n",
        "umbral = 2 \n",
        "outliers = []\n",
        "for i in range(0, N):\n",
        "  if np.abs(SSE[i]-mu) > umbral*sigma:\n",
        "    outliers.append(i)\n",
        "print(outliers)"
      ],
      "metadata": {
        "colab": {
          "base_uri": "https://localhost:8080/"
        },
        "id": "Mo-QvxEsupap",
        "outputId": "033b3878-a4a9-4fbb-a0f5-50e1e7219e19"
      },
      "execution_count": 48,
      "outputs": [
        {
          "output_type": "stream",
          "name": "stdout",
          "text": [
            "[2, 192, 193, 194, 195, 196, 197, 198, 199]\n"
          ]
        }
      ]
    },
    {
      "cell_type": "code",
      "source": [
        "X_new = np.delete(X, outliers, axis=0)\n",
        "X_new.shape"
      ],
      "metadata": {
        "colab": {
          "base_uri": "https://localhost:8080/"
        },
        "id": "g60iovgCvKEi",
        "outputId": "0de8858d-8490-4611-badf-b4432e64ec79"
      },
      "execution_count": 49,
      "outputs": [
        {
          "output_type": "execute_result",
          "data": {
            "text/plain": [
              "(191, 3)"
            ]
          },
          "metadata": {},
          "execution_count": 49
        }
      ]
    },
    {
      "cell_type": "markdown",
      "source": [
        "# Optimizacion de la funcion BIC"
      ],
      "metadata": {
        "id": "yRSX3ZLuCtUO"
      }
    },
    {
      "cell_type": "code",
      "source": [
        "def BIC(K, grupos, X):\n",
        "  \"\"\"\n",
        "  K: Número de grupos (clusters)\n",
        "  grupos: Vector que contiene los grupos de los datos\n",
        "  X: Matriz de datos\n",
        "  \"\"\"\n",
        "  N = X.shape[0] # Número de datos\n",
        "  P = X.shape[1] # Número de variables\n",
        "  xi = np.zeros((1,K)) # Vector xi\n",
        "\n",
        "  # Calculamos el sumario de xi en la fórmula\n",
        "  for k in range(0, K):\n",
        "    suma = 0\n",
        "    for j in range(0, P):\n",
        "      sigma = np.square(np.std(X[:, j]))\n",
        "      sigma_j = np.square(np.std(X[grupos==k, j]))\n",
        "      suma += 0.5*np.log(sigma + sigma_j)\n",
        "\n",
        "    n_k = sum(grupos==k) # Número de elementos en el grupo k\n",
        "    xi[0, k] = -n_k*suma\n",
        "\n",
        "  bic = -2*np.sum(xi) + 2*K*P*np.log(N)\n",
        "  return bic"
      ],
      "metadata": {
        "id": "RQaF7-l6CtFj"
      },
      "execution_count": 50,
      "outputs": []
    },
    {
      "cell_type": "code",
      "source": [
        "## Calculo del BIC\n",
        "from sklearn.cluster import KMeans\n",
        "import matplotlib.pyplot as plt\n",
        "\n",
        "Kmax = 10\n",
        "BIC_array = []\n",
        "for k in range(2, Kmax+1):\n",
        "  kmeans = KMeans(n_clusters=k, n_init=15, random_state=100)\n",
        "  grupos = kmeans.fit_predict(X)\n",
        "  BIC_array.append(BIC(k, grupos, X))\n",
        "\n",
        "# Dibujamos el BIC obtenido para cada valor de k\n",
        "plt.figure(figsize=(9, 6))\n",
        "plt.plot(np.arange(2, Kmax+1), BIC_array, \"ko-\")\n",
        "plt.title(\"Valor del BIC en función de K\", fontsize=16)\n",
        "plt.xlabel(\"K\", fontsize=14)\n",
        "plt.ylabel(\"BIC(K)\", fontsize=14)\n",
        "plt.show()"
      ],
      "metadata": {
        "colab": {
          "base_uri": "https://localhost:8080/",
          "height": 413
        },
        "id": "y7SrScfTC3CR",
        "outputId": "45a0102e-e6ec-4eb5-ca6a-79e60d214e4e"
      },
      "execution_count": 51,
      "outputs": [
        {
          "output_type": "display_data",
          "data": {
            "text/plain": [
              "<Figure size 648x432 with 1 Axes>"
            ],
            "image/png": "[encoded data removed]"
          },
          "metadata": {}
        }
      ]
    },
    {
      "cell_type": "markdown",
      "source": [
        "# Ejecución de análisis cluster con un valor de k concreto (número de grupos), por ejemplo 4, y determinar el número de réplicas (n_init) del algoritmo que conduce a que la repetición de dicho algoritmo genere la misma solución."
      ],
      "metadata": {
        "id": "ct8Iw9iOvUb4"
      }
    },
    {
      "cell_type": "code",
      "source": [
        "kmeans = KMeans(n_clusters=4, n_init=30, random_state=100)\n",
        "pred = kmeans.fit_predict(X_new)\n",
        "centroides = kmeans.cluster_centers_"
      ],
      "metadata": {
        "id": "tS_wwMVs3KN-"
      },
      "execution_count": 52,
      "outputs": []
    },
    {
      "cell_type": "code",
      "source": [
        "for k in range(0, 4):\n",
        "  plt.scatter(X_new[pred==k, 0], X_new[pred==k, 1], label=\"Cluster {}\".format(k)) \n",
        "\n",
        "plt.title(\"Algoritmo K-medias\", fontsize=14)\n",
        "plt.xlabel(r\"$x_1$\", fontsize=14)\n",
        "plt.ylabel(r\"$x_2$\", fontsize=14)\n",
        "plt.legend()\n",
        "plt.show()"
      ],
      "metadata": {
        "colab": {
          "base_uri": "https://localhost:8080/",
          "height": 521
        },
        "id": "W-3uZfJc3O5m",
        "outputId": "6c92cf66-88ae-49bd-88b5-c9687755385b"
      },
      "execution_count": 53,
      "outputs": [
        {
          "output_type": "display_data",
          "data": {
            "text/plain": [
              "<Figure size 1080x576 with 1 Axes>"
            ],
            "image/png": "[encoded data removed]"
          },
          "metadata": {}
        }
      ]
    },
    {
      "cell_type": "markdown",
      "source": [
        "#Mostrar para el análisis anterior una tabla con los siguientes datos: número de grupo, cantidad de observaciones de ese grupo y el centroide que representa a ese grupo(valor de cada variable)"
      ],
      "metadata": {
        "id": "kfl9D21z3LmM"
      }
    },
    {
      "cell_type": "code",
      "source": [
        "df.columns"
      ],
      "metadata": {
        "colab": {
          "base_uri": "https://localhost:8080/"
        },
        "id": "dWUedG_L3Hmf",
        "outputId": "ce2ec157-b08b-4928-aa2b-a827b13550f8"
      },
      "execution_count": 54,
      "outputs": [
        {
          "output_type": "execute_result",
          "data": {
            "text/plain": [
              "Index(['Age', 'Annual Income (k$)', 'Spending Score (1-100)'], dtype='object')"
            ]
          },
          "metadata": {},
          "execution_count": 54
        }
      ]
    },
    {
      "cell_type": "code",
      "source": [
        "centroides"
      ],
      "metadata": {
        "colab": {
          "base_uri": "https://localhost:8080/"
        },
        "id": "FLRryTaV5wU4",
        "outputId": "b7abb68b-c9d1-47a1-f563-2e0e37bfaa1a"
      },
      "execution_count": 56,
      "outputs": [
        {
          "output_type": "execute_result",
          "data": {
            "text/plain": [
              "array([[40.52941176, 82.64705882, 18.76470588],\n",
              "       [24.82142857, 28.71428571, 74.25      ],\n",
              "       [45.15957447, 49.05319149, 43.0212766 ],\n",
              "       [32.57142857, 82.25714286, 82.17142857]])"
            ]
          },
          "metadata": {},
          "execution_count": 56
        }
      ]
    },
    {
      "cell_type": "code",
      "source": [
        "tabla = pd.DataFrame(columns = ['Grupos','Numero Observaciones', 'Age', 'Annual Income (k$)', 'Spending Score (1-100)'])\n",
        "grupos = np.bincount(pred)\n",
        "\n",
        "for k in range(4):\n",
        "  tabla.loc[k, 'Grupos'] = k\n",
        "  tabla.loc[k, \"Numero Observaciones\"] = grupos[k]\n",
        "  tabla.loc[k,'Age'] = centroides[k,0]\n",
        "  tabla.loc[k,'Annual Income (k$)'] = centroides[k,1]\n",
        "  tabla.loc[k,'Spending Score (1-100)'] = centroides[k,2]  \n",
        "tabla\n"
      ],
      "metadata": {
        "colab": {
          "base_uri": "https://localhost:8080/",
          "height": 175
        },
        "id": "H6EXF_fb3Upv",
        "outputId": "dddb52d5-88d8-4363-c97c-3f84315595a4"
      },
      "execution_count": 58,
      "outputs": [
        {
          "output_type": "execute_result",
          "data": {
            "text/plain": [
              "  Grupos Numero Observaciones        Age Annual Income (k$)  \\\n",
              "0      0                   34  40.529412          82.647059   \n",
              "1      1                   28  24.821429          28.714286   \n",
              "2      2                   94  45.159574          49.053191   \n",
              "3      3                   35  32.571429          82.257143   \n",
              "\n",
              "  Spending Score (1-100)  \n",
              "0              18.764706  \n",
              "1                  74.25  \n",
              "2              43.021277  \n",
              "3              82.171429  "
            ],
            "text/html": [
              "\n",
              "  <div id=\"df-4848f077-7b5e-4f6f-bbc8-ecf0353d6be6\">\n",
              "    <div class=\"colab-df-container\">\n",
              "      <div>\n",
              "<style scoped>\n",
              "    .dataframe tbody tr th:only-of-type {\n",
              "        vertical-align: middle;\n",
              "    }\n",
              "\n",
              "    .dataframe tbody tr th {\n",
              "        vertical-align: top;\n",
              "    }\n",
              "\n",
              "    .dataframe thead th {\n",
              "        text-align: right;\n",
              "    }\n",
              "</style>\n",
              "<table border=\"1\" class=\"dataframe\">\n",
              "  <thead>\n",
              "    <tr style=\"text-align: right;\">\n",
              "      <th></th>\n",
              "      <th>Grupos</th>\n",
              "      <th>Numero Observaciones</th>\n",
              "      <th>Age</th>\n",
              "      <th>Annual Income (k$)</th>\n",
              "      <th>Spending Score (1-100)</th>\n",
              "    </tr>\n",
              "  </thead>\n",
              "  <tbody>\n",
              "    <tr>\n",
              "      <th>0</th>\n",
              "      <td>0</td>\n",
              "      <td>34</td>\n",
              "      <td>40.529412</td>\n",
              "      <td>82.647059</td>\n",
              "      <td>18.764706</td>\n",
              "    </tr>\n",
              "    <tr>\n",
              "      <th>1</th>\n",
              "      <td>1</td>\n",
              "      <td>28</td>\n",
              "      <td>24.821429</td>\n",
              "      <td>28.714286</td>\n",
              "      <td>74.25</td>\n",
              "    </tr>\n",
              "    <tr>\n",
              "      <th>2</th>\n",
              "      <td>2</td>\n",
              "      <td>94</td>\n",
              "      <td>45.159574</td>\n",
              "      <td>49.053191</td>\n",
              "      <td>43.021277</td>\n",
              "    </tr>\n",
              "    <tr>\n",
              "      <th>3</th>\n",
              "      <td>3</td>\n",
              "      <td>35</td>\n",
              "      <td>32.571429</td>\n",
              "      <td>82.257143</td>\n",
              "      <td>82.171429</td>\n",
              "    </tr>\n",
              "  </tbody>\n",
              "</table>\n",
              "</div>\n",
              "      <button class=\"colab-df-convert\" onclick=\"convertToInteractive('df-4848f077-7b5e-4f6f-bbc8-ecf0353d6be6')\"\n",
              "              title=\"Convert this dataframe to an interactive table.\"\n",
              "              style=\"display:none;\">\n",
              "        \n",
              "  <svg xmlns=\"http://www.w3.org/2000/svg\" height=\"24px\"viewBox=\"0 0 24 24\"\n",
              "       width=\"24px\">\n",
              "    <path d=\"M0 0h24v24H0V0z\" fill=\"none\"/>\n",
              "    <path d=\"M18.56 5.44l.94 2.06.94-2.06 2.06-.94-2.06-.94-.94-2.06-.94 2.06-2.06.94zm-11 1L8.5 8.5l.94-2.06 2.06-.94-2.06-.94L8.5 2.5l-.94 2.06-2.06.94zm10 10l.94 2.06.94-2.06 2.06-.94-2.06-.94-.94-2.06-.94 2.06-2.06.94z\"/><path d=\"M17.41 7.96l-1.37-1.37c-.4-.4-.92-.59-1.43-.59-.52 0-1.04.2-1.43.59L10.3 9.45l-7.72 7.72c-.78.78-.78 2.05 0 2.83L4 21.41c.39.39.9.59 1.41.59.51 0 1.02-.2 1.41-.59l7.78-7.78 2.81-2.81c.8-.78.8-2.07 0-2.86zM5.41 20L4 18.59l7.72-7.72 1.47 1.35L5.41 20z\"/>\n",
              "  </svg>\n",
              "      </button>\n",
              "      \n",
              "  <style>\n",
              "    .colab-df-container {\n",
              "      display:flex;\n",
              "      flex-wrap:wrap;\n",
              "      gap: 12px;\n",
              "    }\n",
              "\n",
              "    .colab-df-convert {\n",
              "      background-color: #E8F0FE;\n",
              "      border: none;\n",
              "      border-radius: 50%;\n",
              "      cursor: pointer;\n",
              "      display: none;\n",
              "      fill: #1967D2;\n",
              "      height: 32px;\n",
              "      padding: 0 0 0 0;\n",
              "      width: 32px;\n",
              "    }\n",
              "\n",
              "    .colab-df-convert:hover {\n",
              "      background-color: #E2EBFA;\n",
              "      box-shadow: 0px 1px 2px rgba(60, 64, 67, 0.3), 0px 1px 3px 1px rgba(60, 64, 67, 0.15);\n",
              "      fill: #174EA6;\n",
              "    }\n",
              "\n",
              "    [theme=dark] .colab-df-convert {\n",
              "      background-color: #3B4455;\n",
              "      fill: #D2E3FC;\n",
              "    }\n",
              "\n",
              "    [theme=dark] .colab-df-convert:hover {\n",
              "      background-color: #434B5C;\n",
              "      box-shadow: 0px 1px 3px 1px rgba(0, 0, 0, 0.15);\n",
              "      filter: drop-shadow(0px 1px 2px rgba(0, 0, 0, 0.3));\n",
              "      fill: #FFFFFF;\n",
              "    }\n",
              "  </style>\n",
              "\n",
              "      <script>\n",
              "        const buttonEl =\n",
              "          document.querySelector('#df-4848f077-7b5e-4f6f-bbc8-ecf0353d6be6 button.colab-df-convert');\n",
              "        buttonEl.style.display =\n",
              "          google.colab.kernel.accessAllowed ? 'block' : 'none';\n",
              "\n",
              "        async function convertToInteractive(key) {\n",
              "          const element = document.querySelector('#df-4848f077-7b5e-4f6f-bbc8-ecf0353d6be6');\n",
              "          const dataTable =\n",
              "            await google.colab.kernel.invokeFunction('convertToInteractive',\n",
              "                                                     [key], {});\n",
              "          if (!dataTable) return;\n",
              "\n",
              "          const docLinkHtml = 'Like what you see? Visit the ' +\n",
              "            '<a target=\"_blank\" href=https://colab.research.google.com/notebooks/data_table.ipynb>data table notebook</a>'\n",
              "            + ' to learn more about interactive tables.';\n",
              "          element.innerHTML = '';\n",
              "          dataTable['output_type'] = 'display_data';\n",
              "          await google.colab.output.renderOutput(dataTable, element);\n",
              "          const docLink = document.createElement('div');\n",
              "          docLink.innerHTML = docLinkHtml;\n",
              "          element.appendChild(docLink);\n",
              "        }\n",
              "      </script>\n",
              "    </div>\n",
              "  </div>\n",
              "  "
            ]
          },
          "metadata": {},
          "execution_count": 58
        }
      ]
    }
  ]
}